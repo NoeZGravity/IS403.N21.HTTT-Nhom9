{
  "cells": [
    {
      "cell_type": "code",
      "execution_count": 109,
      "id": "b126873d",
      "metadata": {
        "id": "b126873d"
      },
      "outputs": [],
      "source": [
        "import numpy as np\n",
        "import pandas as pd\n",
        "import statistics as st\n",
        "import matplotlib.pyplot as plt\n",
        "from scipy.stats import skew\n",
        "from scipy.stats import kurtosis"
      ]
    },
    {
      "cell_type": "code",
      "execution_count": 110,
      "id": "a9069c7e",
      "metadata": {
        "colab": {
          "base_uri": "https://localhost:8080/",
          "height": 641
        },
        "id": "a9069c7e",
        "outputId": "cfe0cfbb-d8fb-4462-a244-b32c1e8cdc11"
      },
      "outputs": [
        {
          "output_type": "execute_result",
          "data": {
            "text/plain": [
              "            Date        Open        High         Low       Close   Adj Close  \\\n",
              "0     2017-12-01   83.599998   84.809998   83.220001   84.260002   78.978004   \n",
              "1     2017-12-04   84.419998   84.430000   80.699997   81.080002   75.997337   \n",
              "2     2017-12-05   81.339996   82.680000   80.980003   81.589996   76.475357   \n",
              "3     2017-12-06   81.550003   83.139999   81.430000   82.779999   77.590767   \n",
              "4     2017-12-07   82.540001   82.800003   82.000000   82.489998   77.318954   \n",
              "...          ...         ...         ...         ...         ...         ...   \n",
              "1386  2023-06-07  331.649994  334.489990  322.500000  323.380005  323.380005   \n",
              "1387  2023-06-08  323.940002  326.640015  323.350006  325.260010  325.260010   \n",
              "1388  2023-06-09  324.989990  329.989990  324.410004  326.790009  326.790009   \n",
              "1389  2023-06-12  328.579987  332.100006  325.160004  331.850006  331.850006   \n",
              "1390  2023-06-13  334.470001  336.980011  330.390015  334.290009  334.290009   \n",
              "\n",
              "        Volume  \n",
              "0     29532100  \n",
              "1     39094900  \n",
              "2     26152300  \n",
              "3     26162100  \n",
              "4     23184500  \n",
              "...        ...  \n",
              "1386  40717100  \n",
              "1387  23277700  \n",
              "1388  22514900  \n",
              "1389  24260300  \n",
              "1390  22951300  \n",
              "\n",
              "[1391 rows x 7 columns]"
            ],
            "text/html": [
              "\n",
              "  <div id=\"df-8b65fd1e-ef1b-4eb9-b4ec-772ec622f263\">\n",
              "    <div class=\"colab-df-container\">\n",
              "      <div>\n",
              "<style scoped>\n",
              "    .dataframe tbody tr th:only-of-type {\n",
              "        vertical-align: middle;\n",
              "    }\n",
              "\n",
              "    .dataframe tbody tr th {\n",
              "        vertical-align: top;\n",
              "    }\n",
              "\n",
              "    .dataframe thead th {\n",
              "        text-align: right;\n",
              "    }\n",
              "</style>\n",
              "<table border=\"1\" class=\"dataframe\">\n",
              "  <thead>\n",
              "    <tr style=\"text-align: right;\">\n",
              "      <th></th>\n",
              "      <th>Date</th>\n",
              "      <th>Open</th>\n",
              "      <th>High</th>\n",
              "      <th>Low</th>\n",
              "      <th>Close</th>\n",
              "      <th>Adj Close</th>\n",
              "      <th>Volume</th>\n",
              "    </tr>\n",
              "  </thead>\n",
              "  <tbody>\n",
              "    <tr>\n",
              "      <th>0</th>\n",
              "      <td>2017-12-01</td>\n",
              "      <td>83.599998</td>\n",
              "      <td>84.809998</td>\n",
              "      <td>83.220001</td>\n",
              "      <td>84.260002</td>\n",
              "      <td>78.978004</td>\n",
              "      <td>29532100</td>\n",
              "    </tr>\n",
              "    <tr>\n",
              "      <th>1</th>\n",
              "      <td>2017-12-04</td>\n",
              "      <td>84.419998</td>\n",
              "      <td>84.430000</td>\n",
              "      <td>80.699997</td>\n",
              "      <td>81.080002</td>\n",
              "      <td>75.997337</td>\n",
              "      <td>39094900</td>\n",
              "    </tr>\n",
              "    <tr>\n",
              "      <th>2</th>\n",
              "      <td>2017-12-05</td>\n",
              "      <td>81.339996</td>\n",
              "      <td>82.680000</td>\n",
              "      <td>80.980003</td>\n",
              "      <td>81.589996</td>\n",
              "      <td>76.475357</td>\n",
              "      <td>26152300</td>\n",
              "    </tr>\n",
              "    <tr>\n",
              "      <th>3</th>\n",
              "      <td>2017-12-06</td>\n",
              "      <td>81.550003</td>\n",
              "      <td>83.139999</td>\n",
              "      <td>81.430000</td>\n",
              "      <td>82.779999</td>\n",
              "      <td>77.590767</td>\n",
              "      <td>26162100</td>\n",
              "    </tr>\n",
              "    <tr>\n",
              "      <th>4</th>\n",
              "      <td>2017-12-07</td>\n",
              "      <td>82.540001</td>\n",
              "      <td>82.800003</td>\n",
              "      <td>82.000000</td>\n",
              "      <td>82.489998</td>\n",
              "      <td>77.318954</td>\n",
              "      <td>23184500</td>\n",
              "    </tr>\n",
              "    <tr>\n",
              "      <th>...</th>\n",
              "      <td>...</td>\n",
              "      <td>...</td>\n",
              "      <td>...</td>\n",
              "      <td>...</td>\n",
              "      <td>...</td>\n",
              "      <td>...</td>\n",
              "      <td>...</td>\n",
              "    </tr>\n",
              "    <tr>\n",
              "      <th>1386</th>\n",
              "      <td>2023-06-07</td>\n",
              "      <td>331.649994</td>\n",
              "      <td>334.489990</td>\n",
              "      <td>322.500000</td>\n",
              "      <td>323.380005</td>\n",
              "      <td>323.380005</td>\n",
              "      <td>40717100</td>\n",
              "    </tr>\n",
              "    <tr>\n",
              "      <th>1387</th>\n",
              "      <td>2023-06-08</td>\n",
              "      <td>323.940002</td>\n",
              "      <td>326.640015</td>\n",
              "      <td>323.350006</td>\n",
              "      <td>325.260010</td>\n",
              "      <td>325.260010</td>\n",
              "      <td>23277700</td>\n",
              "    </tr>\n",
              "    <tr>\n",
              "      <th>1388</th>\n",
              "      <td>2023-06-09</td>\n",
              "      <td>324.989990</td>\n",
              "      <td>329.989990</td>\n",
              "      <td>324.410004</td>\n",
              "      <td>326.790009</td>\n",
              "      <td>326.790009</td>\n",
              "      <td>22514900</td>\n",
              "    </tr>\n",
              "    <tr>\n",
              "      <th>1389</th>\n",
              "      <td>2023-06-12</td>\n",
              "      <td>328.579987</td>\n",
              "      <td>332.100006</td>\n",
              "      <td>325.160004</td>\n",
              "      <td>331.850006</td>\n",
              "      <td>331.850006</td>\n",
              "      <td>24260300</td>\n",
              "    </tr>\n",
              "    <tr>\n",
              "      <th>1390</th>\n",
              "      <td>2023-06-13</td>\n",
              "      <td>334.470001</td>\n",
              "      <td>336.980011</td>\n",
              "      <td>330.390015</td>\n",
              "      <td>334.290009</td>\n",
              "      <td>334.290009</td>\n",
              "      <td>22951300</td>\n",
              "    </tr>\n",
              "  </tbody>\n",
              "</table>\n",
              "<p>1391 rows × 7 columns</p>\n",
              "</div>\n",
              "      <button class=\"colab-df-convert\" onclick=\"convertToInteractive('df-8b65fd1e-ef1b-4eb9-b4ec-772ec622f263')\"\n",
              "              title=\"Convert this dataframe to an interactive table.\"\n",
              "              style=\"display:none;\">\n",
              "        \n",
              "  <svg xmlns=\"http://www.w3.org/2000/svg\" height=\"24px\"viewBox=\"0 0 24 24\"\n",
              "       width=\"24px\">\n",
              "    <path d=\"M0 0h24v24H0V0z\" fill=\"none\"/>\n",
              "    <path d=\"M18.56 5.44l.94 2.06.94-2.06 2.06-.94-2.06-.94-.94-2.06-.94 2.06-2.06.94zm-11 1L8.5 8.5l.94-2.06 2.06-.94-2.06-.94L8.5 2.5l-.94 2.06-2.06.94zm10 10l.94 2.06.94-2.06 2.06-.94-2.06-.94-.94-2.06-.94 2.06-2.06.94z\"/><path d=\"M17.41 7.96l-1.37-1.37c-.4-.4-.92-.59-1.43-.59-.52 0-1.04.2-1.43.59L10.3 9.45l-7.72 7.72c-.78.78-.78 2.05 0 2.83L4 21.41c.39.39.9.59 1.41.59.51 0 1.02-.2 1.41-.59l7.78-7.78 2.81-2.81c.8-.78.8-2.07 0-2.86zM5.41 20L4 18.59l7.72-7.72 1.47 1.35L5.41 20z\"/>\n",
              "  </svg>\n",
              "      </button>\n",
              "      \n",
              "  <style>\n",
              "    .colab-df-container {\n",
              "      display:flex;\n",
              "      flex-wrap:wrap;\n",
              "      gap: 12px;\n",
              "    }\n",
              "\n",
              "    .colab-df-convert {\n",
              "      background-color: #E8F0FE;\n",
              "      border: none;\n",
              "      border-radius: 50%;\n",
              "      cursor: pointer;\n",
              "      display: none;\n",
              "      fill: #1967D2;\n",
              "      height: 32px;\n",
              "      padding: 0 0 0 0;\n",
              "      width: 32px;\n",
              "    }\n",
              "\n",
              "    .colab-df-convert:hover {\n",
              "      background-color: #E2EBFA;\n",
              "      box-shadow: 0px 1px 2px rgba(60, 64, 67, 0.3), 0px 1px 3px 1px rgba(60, 64, 67, 0.15);\n",
              "      fill: #174EA6;\n",
              "    }\n",
              "\n",
              "    [theme=dark] .colab-df-convert {\n",
              "      background-color: #3B4455;\n",
              "      fill: #D2E3FC;\n",
              "    }\n",
              "\n",
              "    [theme=dark] .colab-df-convert:hover {\n",
              "      background-color: #434B5C;\n",
              "      box-shadow: 0px 1px 3px 1px rgba(0, 0, 0, 0.15);\n",
              "      filter: drop-shadow(0px 1px 2px rgba(0, 0, 0, 0.3));\n",
              "      fill: #FFFFFF;\n",
              "    }\n",
              "  </style>\n",
              "\n",
              "      <script>\n",
              "        const buttonEl =\n",
              "          document.querySelector('#df-8b65fd1e-ef1b-4eb9-b4ec-772ec622f263 button.colab-df-convert');\n",
              "        buttonEl.style.display =\n",
              "          google.colab.kernel.accessAllowed ? 'block' : 'none';\n",
              "\n",
              "        async function convertToInteractive(key) {\n",
              "          const element = document.querySelector('#df-8b65fd1e-ef1b-4eb9-b4ec-772ec622f263');\n",
              "          const dataTable =\n",
              "            await google.colab.kernel.invokeFunction('convertToInteractive',\n",
              "                                                     [key], {});\n",
              "          if (!dataTable) return;\n",
              "\n",
              "          const docLinkHtml = 'Like what you see? Visit the ' +\n",
              "            '<a target=\"_blank\" href=https://colab.research.google.com/notebooks/data_table.ipynb>data table notebook</a>'\n",
              "            + ' to learn more about interactive tables.';\n",
              "          element.innerHTML = '';\n",
              "          dataTable['output_type'] = 'display_data';\n",
              "          await google.colab.output.renderOutput(dataTable, element);\n",
              "          const docLink = document.createElement('div');\n",
              "          docLink.innerHTML = docLinkHtml;\n",
              "          element.appendChild(docLink);\n",
              "        }\n",
              "      </script>\n",
              "    </div>\n",
              "  </div>\n",
              "  "
            ]
          },
          "metadata": {},
          "execution_count": 110
        }
      ],
      "source": [
        "gdp_lab= pd.read_csv(\"/content/MSFT.csv\")\n",
        "gdp_lab"
      ]
    },
    {
      "cell_type": "code",
      "execution_count": 111,
      "id": "4fea37d6",
      "metadata": {
        "colab": {
          "base_uri": "https://localhost:8080/"
        },
        "id": "4fea37d6",
        "outputId": "185e1954-6083-44eb-88e2-f0f38d80cedc"
      },
      "outputs": [
        {
          "output_type": "execute_result",
          "data": {
            "text/plain": [
              "1391"
            ]
          },
          "metadata": {},
          "execution_count": 111
        }
      ],
      "source": [
        "#Hàm lấy số lượng mẫu\n",
        "len(gdp_lab)"
      ]
    },
    {
      "cell_type": "code",
      "execution_count": 112,
      "id": "d63b60a3",
      "metadata": {
        "colab": {
          "base_uri": "https://localhost:8080/"
        },
        "id": "d63b60a3",
        "outputId": "363673c7-7f5a-4e1c-982e-0be8f40ede82"
      },
      "outputs": [
        {
          "output_type": "execute_result",
          "data": {
            "text/plain": [
              "81.080002"
            ]
          },
          "metadata": {},
          "execution_count": 112
        }
      ],
      "source": [
        "#Hàm tìm nhỏ nhất\n",
        "min(gdp_lab.Close)"
      ]
    },
    {
      "cell_type": "code",
      "execution_count": 113,
      "id": "a2a46819",
      "metadata": {
        "colab": {
          "base_uri": "https://localhost:8080/"
        },
        "id": "a2a46819",
        "outputId": "42bad16c-6b81-48ce-ead7-379d2f0209b5"
      },
      "outputs": [
        {
          "output_type": "execute_result",
          "data": {
            "text/plain": [
              "343.109985"
            ]
          },
          "metadata": {},
          "execution_count": 113
        }
      ],
      "source": [
        "#Hàm tìm lớn nhất\n",
        "max(gdp_lab.Close)"
      ]
    },
    {
      "cell_type": "code",
      "execution_count": 114,
      "id": "22918b97",
      "metadata": {
        "colab": {
          "base_uri": "https://localhost:8080/"
        },
        "id": "22918b97",
        "outputId": "6b7fd60f-37df-47b7-e241-0d5bc678bc64"
      },
      "outputs": [
        {
          "output_type": "execute_result",
          "data": {
            "text/plain": [
              "199.12248020345075"
            ]
          },
          "metadata": {},
          "execution_count": 114
        }
      ],
      "source": [
        "#Tính trung bình\n",
        "st.mean(gdp_lab.Close)"
      ]
    },
    {
      "cell_type": "code",
      "execution_count": 115,
      "id": "f4efa26b",
      "metadata": {
        "id": "f4efa26b",
        "outputId": "bf620c2a-29c7-4f76-d874-45546adfcb9d",
        "colab": {
          "base_uri": "https://localhost:8080/"
        }
      },
      "outputs": [
        {
          "output_type": "execute_result",
          "data": {
            "text/plain": [
              "210.279999"
            ]
          },
          "metadata": {},
          "execution_count": 115
        }
      ],
      "source": [
        "#Tính Trung Vị\n",
        "st.median(gdp_lab.Close)"
      ]
    },
    {
      "cell_type": "code",
      "execution_count": 116,
      "id": "54d9a3a5",
      "metadata": {
        "id": "54d9a3a5",
        "outputId": "7959dbc7-28c5-4ff0-f1f2-03c3b642df38",
        "colab": {
          "base_uri": "https://localhost:8080/"
        }
      },
      "outputs": [
        {
          "output_type": "execute_result",
          "data": {
            "text/plain": [
              "5837.405956488426"
            ]
          },
          "metadata": {},
          "execution_count": 116
        }
      ],
      "source": [
        "#Tính Phương sai\n",
        "st.variance(gdp_lab.Close)"
      ]
    },
    {
      "cell_type": "code",
      "execution_count": 117,
      "id": "662a03dd",
      "metadata": {
        "id": "662a03dd",
        "outputId": "96c5689a-9d26-4fa1-c583-416f71185f71",
        "colab": {
          "base_uri": "https://localhost:8080/"
        }
      },
      "outputs": [
        {
          "output_type": "execute_result",
          "data": {
            "text/plain": [
              "76.40291850766191"
            ]
          },
          "metadata": {},
          "execution_count": 117
        }
      ],
      "source": [
        "#Tính độ lệnh chuẩn\n",
        "st.stdev(gdp_lab.Close)"
      ]
    },
    {
      "cell_type": "code",
      "execution_count": 118,
      "id": "3295b2eb",
      "metadata": {
        "id": "3295b2eb",
        "outputId": "eb8a0039-19c3-4d5d-a899-9b24acd314ae",
        "colab": {
          "base_uri": "https://localhost:8080/"
        }
      },
      "outputs": [
        {
          "output_type": "execute_result",
          "data": {
            "text/plain": [
              "0.38369810595769116"
            ]
          },
          "metadata": {},
          "execution_count": 118
        }
      ],
      "source": [
        "#Tính CV\n",
        "cv = st.stdev(gdp_lab.Close)/st.mean(gdp_lab.Close)\n",
        "cv"
      ]
    },
    {
      "cell_type": "code",
      "execution_count": 119,
      "id": "adbaee16",
      "metadata": {
        "id": "adbaee16",
        "outputId": "83524cab-19b3-4c3e-aae3-599f75adc40e",
        "colab": {
          "base_uri": "https://localhost:8080/"
        }
      },
      "outputs": [
        {
          "output_type": "execute_result",
          "data": {
            "text/plain": [
              "0.04960416147009792"
            ]
          },
          "metadata": {},
          "execution_count": 119
        }
      ],
      "source": [
        "skew(gdp_lab.Close)"
      ]
    },
    {
      "cell_type": "code",
      "execution_count": 120,
      "id": "54e8c796",
      "metadata": {
        "id": "54e8c796",
        "outputId": "c5782058-f5fb-4485-afc4-feb5d958634f",
        "colab": {
          "base_uri": "https://localhost:8080/"
        }
      },
      "outputs": [
        {
          "output_type": "execute_result",
          "data": {
            "text/plain": [
              "-1.3500130145336975"
            ]
          },
          "metadata": {},
          "execution_count": 120
        }
      ],
      "source": [
        "kurtosis(gdp_lab.Close)"
      ]
    },
    {
      "cell_type": "code",
      "execution_count": 121,
      "id": "1aebe7c7",
      "metadata": {
        "id": "1aebe7c7",
        "outputId": "8ef733e3-f29b-4944-d4ca-b30155dc0e5a",
        "colab": {
          "base_uri": "https://localhost:8080/"
        }
      },
      "outputs": [
        {
          "output_type": "execute_result",
          "data": {
            "text/plain": [
              "123.3600005"
            ]
          },
          "metadata": {},
          "execution_count": 121
        }
      ],
      "source": [
        "np.quantile(gdp_lab.Close,0.25)"
      ]
    },
    {
      "cell_type": "code",
      "execution_count": 122,
      "id": "b742418d",
      "metadata": {
        "id": "b742418d"
      },
      "outputs": [],
      "source": [
        "import matplotlib.pyplot as plt"
      ]
    },
    {
      "cell_type": "code",
      "execution_count": 123,
      "id": "6af9cc83",
      "metadata": {
        "colab": {
          "base_uri": "https://localhost:8080/",
          "height": 430
        },
        "id": "6af9cc83",
        "outputId": "7ac522ba-ee28-4385-badd-0d1cff33f9b8"
      },
      "outputs": [
        {
          "output_type": "display_data",
          "data": {
            "text/plain": [
              "<Figure size 640x480 with 1 Axes>"
            ],
            "image/png": "[encoded data removed]"
          },
          "metadata": {}
        }
      ],
      "source": [
        "# Creating plot\n",
        "plt.boxplot(gdp_lab.Close)\n",
        "\n",
        "# show plot\n",
        "plt.show()"
      ]
    },
    {
      "cell_type": "code",
      "execution_count": 124,
      "id": "4492aa09",
      "metadata": {
        "colab": {
          "base_uri": "https://localhost:8080/",
          "height": 430
        },
        "id": "4492aa09",
        "outputId": "464b8938-3473-4af3-e56e-2dad6ea35845"
      },
      "outputs": [
        {
          "output_type": "display_data",
          "data": {
            "text/plain": [
              "<Figure size 640x480 with 1 Axes>"
            ],
            "image/png": "[encoded data removed]"
          },
          "metadata": {}
        }
      ],
      "source": [
        "# Creating plot\n",
        "plt.hist(gdp_lab.Close)\n",
        "\n",
        "# show plot\n",
        "plt.show()"
      ]
    },
    {
      "cell_type": "code",
      "execution_count": 124,
      "id": "ddbc96e2",
      "metadata": {
        "id": "ddbc96e2"
      },
      "outputs": [],
      "source": []
    }
  ],
  "metadata": {
    "kernelspec": {
      "display_name": "Python 3 (ipykernel)",
      "language": "python",
      "name": "python3"
    },
    "language_info": {
      "codemirror_mode": {
        "name": "ipython",
        "version": 3
      },
      "file_extension": ".py",
      "mimetype": "text/x-python",
      "name": "python",
      "nbconvert_exporter": "python",
      "pygments_lexer": "ipython3",
      "version": "3.9.9"
    },
    "colab": {
      "provenance": []
    }
  },
  "nbformat": 4,
  "nbformat_minor": 5
}