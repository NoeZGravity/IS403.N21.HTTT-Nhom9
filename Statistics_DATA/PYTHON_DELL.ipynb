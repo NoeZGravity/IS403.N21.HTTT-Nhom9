{
  "cells": [
    {
      "cell_type": "code",
      "execution_count": 93,
      "id": "b126873d",
      "metadata": {
        "id": "b126873d"
      },
      "outputs": [],
      "source": [
        "import numpy as np\n",
        "import pandas as pd\n",
        "import statistics as st\n",
        "import matplotlib.pyplot as plt\n",
        "from scipy.stats import skew\n",
        "from scipy.stats import kurtosis"
      ]
    },
    {
      "cell_type": "code",
      "execution_count": 94,
      "id": "a9069c7e",
      "metadata": {
        "colab": {
          "base_uri": "https://localhost:8080/",
          "height": 423
        },
        "id": "a9069c7e",
        "outputId": "0612425c-b744-4bce-d486-4c6d1df8b8e0"
      },
      "outputs": [
        {
          "output_type": "execute_result",
          "data": {
            "text/plain": [
              "            Date       Open       High        Low      Close  Adj Close  \\\n",
              "0     2017-12-01  21.777945  22.993132  21.693752  22.440264  21.538488   \n",
              "1     2017-12-04  22.504812  22.521650  20.952852  21.017401  20.172800   \n",
              "2     2017-12-05  20.927595  21.278399  20.644144  20.899530  20.059671   \n",
              "3     2017-12-06  20.767628  21.182980  20.697468  21.065109  20.218594   \n",
              "4     2017-12-07  21.278399  21.601139  21.205433  21.298044  20.442167   \n",
              "...          ...        ...        ...        ...        ...        ...   \n",
              "1386  2023-06-07  46.860001  47.779999  46.770000  47.660000  47.660000   \n",
              "1387  2023-06-08  47.990002  48.099998  47.200001  47.889999  47.889999   \n",
              "1388  2023-06-09  48.090000  48.669998  47.590000  47.610001  47.610001   \n",
              "1389  2023-06-12  47.720001  48.119999  47.619999  48.070000  48.070000   \n",
              "1390  2023-06-13  48.279999  48.820000  48.250000  48.799999  48.799999   \n",
              "\n",
              "        Volume  \n",
              "0     13801490  \n",
              "1      8513645  \n",
              "2      6129126  \n",
              "3      7828790  \n",
              "4      7163534  \n",
              "...        ...  \n",
              "1386   4096000  \n",
              "1387   3976100  \n",
              "1388   3293500  \n",
              "1389   3596800  \n",
              "1390   2805600  \n",
              "\n",
              "[1391 rows x 7 columns]"
            ],
            "text/html": [
              "\n",
              "  <div id=\"df-2b728295-91a0-4425-974a-85aa910ade52\">\n",
              "    <div class=\"colab-df-container\">\n",
              "      <div>\n",
              "<style scoped>\n",
              "    .dataframe tbody tr th:only-of-type {\n",
              "        vertical-align: middle;\n",
              "    }\n",
              "\n",
              "    .dataframe tbody tr th {\n",
              "        vertical-align: top;\n",
              "    }\n",
              "\n",
              "    .dataframe thead th {\n",
              "        text-align: right;\n",
              "    }\n",
              "</style>\n",
              "<table border=\"1\" class=\"dataframe\">\n",
              "  <thead>\n",
              "    <tr style=\"text-align: right;\">\n",
              "      <th></th>\n",
              "      <th>Date</th>\n",
              "      <th>Open</th>\n",
              "      <th>High</th>\n",
              "      <th>Low</th>\n",
              "      <th>Close</th>\n",
              "      <th>Adj Close</th>\n",
              "      <th>Volume</th>\n",
              "    </tr>\n",
              "  </thead>\n",
              "  <tbody>\n",
              "    <tr>\n",
              "      <th>0</th>\n",
              "      <td>2017-12-01</td>\n",
              "      <td>21.777945</td>\n",
              "      <td>22.993132</td>\n",
              "      <td>21.693752</td>\n",
              "      <td>22.440264</td>\n",
              "      <td>21.538488</td>\n",
              "      <td>13801490</td>\n",
              "    </tr>\n",
              "    <tr>\n",
              "      <th>1</th>\n",
              "      <td>2017-12-04</td>\n",
              "      <td>22.504812</td>\n",
              "      <td>22.521650</td>\n",
              "      <td>20.952852</td>\n",
              "      <td>21.017401</td>\n",
              "      <td>20.172800</td>\n",
              "      <td>8513645</td>\n",
              "    </tr>\n",
              "    <tr>\n",
              "      <th>2</th>\n",
              "      <td>2017-12-05</td>\n",
              "      <td>20.927595</td>\n",
              "      <td>21.278399</td>\n",
              "      <td>20.644144</td>\n",
              "      <td>20.899530</td>\n",
              "      <td>20.059671</td>\n",
              "      <td>6129126</td>\n",
              "    </tr>\n",
              "    <tr>\n",
              "      <th>3</th>\n",
              "      <td>2017-12-06</td>\n",
              "      <td>20.767628</td>\n",
              "      <td>21.182980</td>\n",
              "      <td>20.697468</td>\n",
              "      <td>21.065109</td>\n",
              "      <td>20.218594</td>\n",
              "      <td>7828790</td>\n",
              "    </tr>\n",
              "    <tr>\n",
              "      <th>4</th>\n",
              "      <td>2017-12-07</td>\n",
              "      <td>21.278399</td>\n",
              "      <td>21.601139</td>\n",
              "      <td>21.205433</td>\n",
              "      <td>21.298044</td>\n",
              "      <td>20.442167</td>\n",
              "      <td>7163534</td>\n",
              "    </tr>\n",
              "    <tr>\n",
              "      <th>...</th>\n",
              "      <td>...</td>\n",
              "      <td>...</td>\n",
              "      <td>...</td>\n",
              "      <td>...</td>\n",
              "      <td>...</td>\n",
              "      <td>...</td>\n",
              "      <td>...</td>\n",
              "    </tr>\n",
              "    <tr>\n",
              "      <th>1386</th>\n",
              "      <td>2023-06-07</td>\n",
              "      <td>46.860001</td>\n",
              "      <td>47.779999</td>\n",
              "      <td>46.770000</td>\n",
              "      <td>47.660000</td>\n",
              "      <td>47.660000</td>\n",
              "      <td>4096000</td>\n",
              "    </tr>\n",
              "    <tr>\n",
              "      <th>1387</th>\n",
              "      <td>2023-06-08</td>\n",
              "      <td>47.990002</td>\n",
              "      <td>48.099998</td>\n",
              "      <td>47.200001</td>\n",
              "      <td>47.889999</td>\n",
              "      <td>47.889999</td>\n",
              "      <td>3976100</td>\n",
              "    </tr>\n",
              "    <tr>\n",
              "      <th>1388</th>\n",
              "      <td>2023-06-09</td>\n",
              "      <td>48.090000</td>\n",
              "      <td>48.669998</td>\n",
              "      <td>47.590000</td>\n",
              "      <td>47.610001</td>\n",
              "      <td>47.610001</td>\n",
              "      <td>3293500</td>\n",
              "    </tr>\n",
              "    <tr>\n",
              "      <th>1389</th>\n",
              "      <td>2023-06-12</td>\n",
              "      <td>47.720001</td>\n",
              "      <td>48.119999</td>\n",
              "      <td>47.619999</td>\n",
              "      <td>48.070000</td>\n",
              "      <td>48.070000</td>\n",
              "      <td>3596800</td>\n",
              "    </tr>\n",
              "    <tr>\n",
              "      <th>1390</th>\n",
              "      <td>2023-06-13</td>\n",
              "      <td>48.279999</td>\n",
              "      <td>48.820000</td>\n",
              "      <td>48.250000</td>\n",
              "      <td>48.799999</td>\n",
              "      <td>48.799999</td>\n",
              "      <td>2805600</td>\n",
              "    </tr>\n",
              "  </tbody>\n",
              "</table>\n",
              "<p>1391 rows × 7 columns</p>\n",
              "</div>\n",
              "      <button class=\"colab-df-convert\" onclick=\"convertToInteractive('df-2b728295-91a0-4425-974a-85aa910ade52')\"\n",
              "              title=\"Convert this dataframe to an interactive table.\"\n",
              "              style=\"display:none;\">\n",
              "        \n",
              "  <svg xmlns=\"http://www.w3.org/2000/svg\" height=\"24px\"viewBox=\"0 0 24 24\"\n",
              "       width=\"24px\">\n",
              "    <path d=\"M0 0h24v24H0V0z\" fill=\"none\"/>\n",
              "    <path d=\"M18.56 5.44l.94 2.06.94-2.06 2.06-.94-2.06-.94-.94-2.06-.94 2.06-2.06.94zm-11 1L8.5 8.5l.94-2.06 2.06-.94-2.06-.94L8.5 2.5l-.94 2.06-2.06.94zm10 10l.94 2.06.94-2.06 2.06-.94-2.06-.94-.94-2.06-.94 2.06-2.06.94z\"/><path d=\"M17.41 7.96l-1.37-1.37c-.4-.4-.92-.59-1.43-.59-.52 0-1.04.2-1.43.59L10.3 9.45l-7.72 7.72c-.78.78-.78 2.05 0 2.83L4 21.41c.39.39.9.59 1.41.59.51 0 1.02-.2 1.41-.59l7.78-7.78 2.81-2.81c.8-.78.8-2.07 0-2.86zM5.41 20L4 18.59l7.72-7.72 1.47 1.35L5.41 20z\"/>\n",
              "  </svg>\n",
              "      </button>\n",
              "      \n",
              "  <style>\n",
              "    .colab-df-container {\n",
              "      display:flex;\n",
              "      flex-wrap:wrap;\n",
              "      gap: 12px;\n",
              "    }\n",
              "\n",
              "    .colab-df-convert {\n",
              "      background-color: #E8F0FE;\n",
              "      border: none;\n",
              "      border-radius: 50%;\n",
              "      cursor: pointer;\n",
              "      display: none;\n",
              "      fill: #1967D2;\n",
              "      height: 32px;\n",
              "      padding: 0 0 0 0;\n",
              "      width: 32px;\n",
              "    }\n",
              "\n",
              "    .colab-df-convert:hover {\n",
              "      background-color: #E2EBFA;\n",
              "      box-shadow: 0px 1px 2px rgba(60, 64, 67, 0.3), 0px 1px 3px 1px rgba(60, 64, 67, 0.15);\n",
              "      fill: #174EA6;\n",
              "    }\n",
              "\n",
              "    [theme=dark] .colab-df-convert {\n",
              "      background-color: #3B4455;\n",
              "      fill: #D2E3FC;\n",
              "    }\n",
              "\n",
              "    [theme=dark] .colab-df-convert:hover {\n",
              "      background-color: #434B5C;\n",
              "      box-shadow: 0px 1px 3px 1px rgba(0, 0, 0, 0.15);\n",
              "      filter: drop-shadow(0px 1px 2px rgba(0, 0, 0, 0.3));\n",
              "      fill: #FFFFFF;\n",
              "    }\n",
              "  </style>\n",
              "\n",
              "      <script>\n",
              "        const buttonEl =\n",
              "          document.querySelector('#df-2b728295-91a0-4425-974a-85aa910ade52 button.colab-df-convert');\n",
              "        buttonEl.style.display =\n",
              "          google.colab.kernel.accessAllowed ? 'block' : 'none';\n",
              "\n",
              "        async function convertToInteractive(key) {\n",
              "          const element = document.querySelector('#df-2b728295-91a0-4425-974a-85aa910ade52');\n",
              "          const dataTable =\n",
              "            await google.colab.kernel.invokeFunction('convertToInteractive',\n",
              "                                                     [key], {});\n",
              "          if (!dataTable) return;\n",
              "\n",
              "          const docLinkHtml = 'Like what you see? Visit the ' +\n",
              "            '<a target=\"_blank\" href=https://colab.research.google.com/notebooks/data_table.ipynb>data table notebook</a>'\n",
              "            + ' to learn more about interactive tables.';\n",
              "          element.innerHTML = '';\n",
              "          dataTable['output_type'] = 'display_data';\n",
              "          await google.colab.output.renderOutput(dataTable, element);\n",
              "          const docLink = document.createElement('div');\n",
              "          docLink.innerHTML = docLinkHtml;\n",
              "          element.appendChild(docLink);\n",
              "        }\n",
              "      </script>\n",
              "    </div>\n",
              "  </div>\n",
              "  "
            ]
          },
          "metadata": {},
          "execution_count": 94
        }
      ],
      "source": [
        "gdp_lab= pd.read_csv(\"/content/DELL.csv\")\n",
        "gdp_lab"
      ]
    },
    {
      "cell_type": "code",
      "execution_count": 95,
      "id": "4fea37d6",
      "metadata": {
        "colab": {
          "base_uri": "https://localhost:8080/"
        },
        "id": "4fea37d6",
        "outputId": "ecbaefd9-741c-463c-ad17-3aa655d8b5ce"
      },
      "outputs": [
        {
          "output_type": "execute_result",
          "data": {
            "text/plain": [
              "1391"
            ]
          },
          "metadata": {},
          "execution_count": 95
        }
      ],
      "source": [
        "#Hàm lấy số lượng mẫu\n",
        "len(gdp_lab)"
      ]
    },
    {
      "cell_type": "code",
      "execution_count": 96,
      "id": "d63b60a3",
      "metadata": {
        "colab": {
          "base_uri": "https://localhost:8080/"
        },
        "id": "d63b60a3",
        "outputId": "6b9ef600-8d7c-4370-c477-f3b9e3e123f5"
      },
      "outputs": [
        {
          "output_type": "execute_result",
          "data": {
            "text/plain": [
              "14.632539"
            ]
          },
          "metadata": {},
          "execution_count": 96
        }
      ],
      "source": [
        "#Hàm tìm nhỏ nhất\n",
        "min(gdp_lab.Close)"
      ]
    },
    {
      "cell_type": "code",
      "execution_count": 97,
      "id": "a2a46819",
      "metadata": {
        "colab": {
          "base_uri": "https://localhost:8080/"
        },
        "id": "a2a46819",
        "outputId": "353855cb-a86d-4b97-c19c-a2c7bee0244e"
      },
      "outputs": [
        {
          "output_type": "execute_result",
          "data": {
            "text/plain": [
              "60.77"
            ]
          },
          "metadata": {},
          "execution_count": 97
        }
      ],
      "source": [
        "#Hàm tìm lớn nhất\n",
        "max(gdp_lab.Close)"
      ]
    },
    {
      "cell_type": "code",
      "execution_count": 98,
      "id": "22918b97",
      "metadata": {
        "colab": {
          "base_uri": "https://localhost:8080/"
        },
        "id": "22918b97",
        "outputId": "c0680d9c-9a73-4e55-b63f-bb233a25036b"
      },
      "outputs": [
        {
          "output_type": "execute_result",
          "data": {
            "text/plain": [
              "35.4549643558591"
            ]
          },
          "metadata": {},
          "execution_count": 98
        }
      ],
      "source": [
        "#Tính trung bình\n",
        "st.mean(gdp_lab.Close)"
      ]
    },
    {
      "cell_type": "code",
      "execution_count": 99,
      "id": "f4efa26b",
      "metadata": {
        "id": "f4efa26b",
        "outputId": "925808a6-5cc0-4a09-8402-109d28ee8097",
        "colab": {
          "base_uri": "https://localhost:8080/"
        }
      },
      "outputs": [
        {
          "output_type": "execute_result",
          "data": {
            "text/plain": [
              "33.578308"
            ]
          },
          "metadata": {},
          "execution_count": 99
        }
      ],
      "source": [
        "#Tính Trung Vị\n",
        "st.median(gdp_lab.Close)"
      ]
    },
    {
      "cell_type": "code",
      "execution_count": 100,
      "id": "54d9a3a5",
      "metadata": {
        "id": "54d9a3a5",
        "outputId": "cde50be8-8c44-4444-c889-3c61e846a6b4",
        "colab": {
          "base_uri": "https://localhost:8080/"
        }
      },
      "outputs": [
        {
          "output_type": "execute_result",
          "data": {
            "text/plain": [
              "130.22945259283793"
            ]
          },
          "metadata": {},
          "execution_count": 100
        }
      ],
      "source": [
        "#Tính Phương sai\n",
        "st.variance(gdp_lab.Close)"
      ]
    },
    {
      "cell_type": "code",
      "execution_count": 101,
      "id": "662a03dd",
      "metadata": {
        "id": "662a03dd",
        "outputId": "886b38d7-bf6e-454a-f380-8f8f09e7d96b",
        "colab": {
          "base_uri": "https://localhost:8080/"
        }
      },
      "outputs": [
        {
          "output_type": "execute_result",
          "data": {
            "text/plain": [
              "11.411811976756274"
            ]
          },
          "metadata": {},
          "execution_count": 101
        }
      ],
      "source": [
        "#Tính độ lệnh chuẩn\n",
        "st.stdev(gdp_lab.Close)"
      ]
    },
    {
      "cell_type": "code",
      "execution_count": 102,
      "id": "3295b2eb",
      "metadata": {
        "id": "3295b2eb",
        "outputId": "f4050255-1de7-406f-9b97-daae4f68ff30",
        "colab": {
          "base_uri": "https://localhost:8080/"
        }
      },
      "outputs": [
        {
          "output_type": "execute_result",
          "data": {
            "text/plain": [
              "0.32186781693578037"
            ]
          },
          "metadata": {},
          "execution_count": 102
        }
      ],
      "source": [
        "#Tính CV\n",
        "cv = st.stdev(gdp_lab.Close)/st.mean(gdp_lab.Close)\n",
        "cv"
      ]
    },
    {
      "cell_type": "code",
      "execution_count": 103,
      "id": "adbaee16",
      "metadata": {
        "id": "adbaee16",
        "outputId": "f92b8fb6-0218-4341-a215-99fbd52e061d",
        "colab": {
          "base_uri": "https://localhost:8080/"
        }
      },
      "outputs": [
        {
          "output_type": "execute_result",
          "data": {
            "text/plain": [
              "0.39155309321430737"
            ]
          },
          "metadata": {},
          "execution_count": 103
        }
      ],
      "source": [
        "skew(gdp_lab.Close)"
      ]
    },
    {
      "cell_type": "code",
      "execution_count": 104,
      "id": "54e8c796",
      "metadata": {
        "id": "54e8c796",
        "outputId": "04a7223c-1976-47a0-b822-33b79551d03b",
        "colab": {
          "base_uri": "https://localhost:8080/"
        }
      },
      "outputs": [
        {
          "output_type": "execute_result",
          "data": {
            "text/plain": [
              "-1.0890266793899255"
            ]
          },
          "metadata": {},
          "execution_count": 104
        }
      ],
      "source": [
        "kurtosis(gdp_lab.Close)"
      ]
    },
    {
      "cell_type": "code",
      "execution_count": 105,
      "id": "1aebe7c7",
      "metadata": {
        "id": "1aebe7c7",
        "outputId": "b35d90f2-c105-45b6-83ba-df1dfbfe4f5a",
        "colab": {
          "base_uri": "https://localhost:8080/"
        }
      },
      "outputs": [
        {
          "output_type": "execute_result",
          "data": {
            "text/plain": [
              "25.8697535"
            ]
          },
          "metadata": {},
          "execution_count": 105
        }
      ],
      "source": [
        "np.quantile(gdp_lab.Close,0.25)"
      ]
    },
    {
      "cell_type": "code",
      "execution_count": 106,
      "id": "b742418d",
      "metadata": {
        "id": "b742418d"
      },
      "outputs": [],
      "source": [
        "import matplotlib.pyplot as plt"
      ]
    },
    {
      "cell_type": "code",
      "execution_count": 107,
      "id": "6af9cc83",
      "metadata": {
        "colab": {
          "base_uri": "https://localhost:8080/",
          "height": 430
        },
        "id": "6af9cc83",
        "outputId": "2af5f46f-65f2-475c-cbe2-c9e63ede788a"
      },
      "outputs": [
        {
          "output_type": "display_data",
          "data": {
            "text/plain": [
              "<Figure size 640x480 with 1 Axes>"
            ],
            "image/png": "[encoded data removed]"
          },
          "metadata": {}
        }
      ],
      "source": [
        "# Creating plot\n",
        "plt.boxplot(gdp_lab.Close)\n",
        "\n",
        "# show plot\n",
        "plt.show()"
      ]
    },
    {
      "cell_type": "code",
      "execution_count": 108,
      "id": "4492aa09",
      "metadata": {
        "colab": {
          "base_uri": "https://localhost:8080/",
          "height": 430
        },
        "id": "4492aa09",
        "outputId": "e64270d5-7637-47c6-f56b-de670bd41ca1"
      },
      "outputs": [
        {
          "output_type": "display_data",
          "data": {
            "text/plain": [
              "<Figure size 640x480 with 1 Axes>"
            ],
            "image/png": "[encoded data removed]"
          },
          "metadata": {}
        }
      ],
      "source": [
        "# Creating plot\n",
        "plt.hist(gdp_lab.Close)\n",
        "\n",
        "# show plot\n",
        "plt.show()"
      ]
    },
    {
      "cell_type": "code",
      "execution_count": 108,
      "id": "ddbc96e2",
      "metadata": {
        "id": "ddbc96e2"
      },
      "outputs": [],
      "source": []
    }
  ],
  "metadata": {
    "kernelspec": {
      "display_name": "Python 3 (ipykernel)",
      "language": "python",
      "name": "python3"
    },
    "language_info": {
      "codemirror_mode": {
        "name": "ipython",
        "version": 3
      },
      "file_extension": ".py",
      "mimetype": "text/x-python",
      "name": "python",
      "nbconvert_exporter": "python",
      "pygments_lexer": "ipython3",
      "version": "3.9.9"
    },
    "colab": {
      "provenance": []
    }
  },
  "nbformat": 4,
  "nbformat_minor": 5
}
