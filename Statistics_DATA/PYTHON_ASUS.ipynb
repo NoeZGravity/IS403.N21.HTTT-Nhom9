{
  "cells": [
    {
      "cell_type": "code",
      "execution_count": 125,
      "id": "b126873d",
      "metadata": {
        "id": "b126873d"
      },
      "outputs": [],
      "source": [
        "import numpy as np\n",
        "import pandas as pd\n",
        "import statistics as st\n",
        "import matplotlib.pyplot as plt\n",
        "from scipy.stats import skew\n",
        "from scipy.stats import kurtosis"
      ]
    },
    {
      "cell_type": "code",
      "execution_count": 126,
      "id": "a9069c7e",
      "metadata": {
        "colab": {
          "base_uri": "https://localhost:8080/",
          "height": 423
        },
        "id": "a9069c7e",
        "outputId": "778f977b-2e4d-4213-bcd8-9d1f2f21ec0a"
      },
      "outputs": [
        {
          "output_type": "execute_result",
          "data": {
            "text/plain": [
              "            Date   Open   High    Low  Close   Adj Close   Volume\n",
              "0     2017-12-01  273.5  274.0  269.0  270.0  180.993896  1300586\n",
              "1     2017-12-04  270.0  271.0  267.5  269.0  180.323547   992636\n",
              "2     2017-12-05  269.0  269.0  267.5  268.5  179.988373  1018041\n",
              "3     2017-12-06  270.5  270.5  266.5  269.5  180.658722  1181673\n",
              "4     2017-12-07  269.5  269.5  265.0  265.0  177.642166   934593\n",
              "...          ...    ...    ...    ...    ...         ...      ...\n",
              "1338  2023-06-07  313.0  316.0  313.0  314.5  314.500000  1236970\n",
              "1339  2023-06-08  313.0  316.5  312.0  314.0  314.000000  1698649\n",
              "1340  2023-06-09  316.5  316.5  314.0  315.0  315.000000  1426649\n",
              "1341  2023-06-12  316.0  325.0  316.0  324.5  324.500000  3596154\n",
              "1342  2023-06-13  328.0  328.0  319.0  320.0  320.000000  2205345\n",
              "\n",
              "[1343 rows x 7 columns]"
            ],
            "text/html": [
              "\n",
              "  <div id=\"df-0f275648-f034-4eec-a635-f6cc32f4916e\">\n",
              "    <div class=\"colab-df-container\">\n",
              "      <div>\n",
              "<style scoped>\n",
              "    .dataframe tbody tr th:only-of-type {\n",
              "        vertical-align: middle;\n",
              "    }\n",
              "\n",
              "    .dataframe tbody tr th {\n",
              "        vertical-align: top;\n",
              "    }\n",
              "\n",
              "    .dataframe thead th {\n",
              "        text-align: right;\n",
              "    }\n",
              "</style>\n",
              "<table border=\"1\" class=\"dataframe\">\n",
              "  <thead>\n",
              "    <tr style=\"text-align: right;\">\n",
              "      <th></th>\n",
              "      <th>Date</th>\n",
              "      <th>Open</th>\n",
              "      <th>High</th>\n",
              "      <th>Low</th>\n",
              "      <th>Close</th>\n",
              "      <th>Adj Close</th>\n",
              "      <th>Volume</th>\n",
              "    </tr>\n",
              "  </thead>\n",
              "  <tbody>\n",
              "    <tr>\n",
              "      <th>0</th>\n",
              "      <td>2017-12-01</td>\n",
              "      <td>273.5</td>\n",
              "      <td>274.0</td>\n",
              "      <td>269.0</td>\n",
              "      <td>270.0</td>\n",
              "      <td>180.993896</td>\n",
              "      <td>1300586</td>\n",
              "    </tr>\n",
              "    <tr>\n",
              "      <th>1</th>\n",
              "      <td>2017-12-04</td>\n",
              "      <td>270.0</td>\n",
              "      <td>271.0</td>\n",
              "      <td>267.5</td>\n",
              "      <td>269.0</td>\n",
              "      <td>180.323547</td>\n",
              "      <td>992636</td>\n",
              "    </tr>\n",
              "    <tr>\n",
              "      <th>2</th>\n",
              "      <td>2017-12-05</td>\n",
              "      <td>269.0</td>\n",
              "      <td>269.0</td>\n",
              "      <td>267.5</td>\n",
              "      <td>268.5</td>\n",
              "      <td>179.988373</td>\n",
              "      <td>1018041</td>\n",
              "    </tr>\n",
              "    <tr>\n",
              "      <th>3</th>\n",
              "      <td>2017-12-06</td>\n",
              "      <td>270.5</td>\n",
              "      <td>270.5</td>\n",
              "      <td>266.5</td>\n",
              "      <td>269.5</td>\n",
              "      <td>180.658722</td>\n",
              "      <td>1181673</td>\n",
              "    </tr>\n",
              "    <tr>\n",
              "      <th>4</th>\n",
              "      <td>2017-12-07</td>\n",
              "      <td>269.5</td>\n",
              "      <td>269.5</td>\n",
              "      <td>265.0</td>\n",
              "      <td>265.0</td>\n",
              "      <td>177.642166</td>\n",
              "      <td>934593</td>\n",
              "    </tr>\n",
              "    <tr>\n",
              "      <th>...</th>\n",
              "      <td>...</td>\n",
              "      <td>...</td>\n",
              "      <td>...</td>\n",
              "      <td>...</td>\n",
              "      <td>...</td>\n",
              "      <td>...</td>\n",
              "      <td>...</td>\n",
              "    </tr>\n",
              "    <tr>\n",
              "      <th>1338</th>\n",
              "      <td>2023-06-07</td>\n",
              "      <td>313.0</td>\n",
              "      <td>316.0</td>\n",
              "      <td>313.0</td>\n",
              "      <td>314.5</td>\n",
              "      <td>314.500000</td>\n",
              "      <td>1236970</td>\n",
              "    </tr>\n",
              "    <tr>\n",
              "      <th>1339</th>\n",
              "      <td>2023-06-08</td>\n",
              "      <td>313.0</td>\n",
              "      <td>316.5</td>\n",
              "      <td>312.0</td>\n",
              "      <td>314.0</td>\n",
              "      <td>314.000000</td>\n",
              "      <td>1698649</td>\n",
              "    </tr>\n",
              "    <tr>\n",
              "      <th>1340</th>\n",
              "      <td>2023-06-09</td>\n",
              "      <td>316.5</td>\n",
              "      <td>316.5</td>\n",
              "      <td>314.0</td>\n",
              "      <td>315.0</td>\n",
              "      <td>315.000000</td>\n",
              "      <td>1426649</td>\n",
              "    </tr>\n",
              "    <tr>\n",
              "      <th>1341</th>\n",
              "      <td>2023-06-12</td>\n",
              "      <td>316.0</td>\n",
              "      <td>325.0</td>\n",
              "      <td>316.0</td>\n",
              "      <td>324.5</td>\n",
              "      <td>324.500000</td>\n",
              "      <td>3596154</td>\n",
              "    </tr>\n",
              "    <tr>\n",
              "      <th>1342</th>\n",
              "      <td>2023-06-13</td>\n",
              "      <td>328.0</td>\n",
              "      <td>328.0</td>\n",
              "      <td>319.0</td>\n",
              "      <td>320.0</td>\n",
              "      <td>320.000000</td>\n",
              "      <td>2205345</td>\n",
              "    </tr>\n",
              "  </tbody>\n",
              "</table>\n",
              "<p>1343 rows × 7 columns</p>\n",
              "</div>\n",
              "      <button class=\"colab-df-convert\" onclick=\"convertToInteractive('df-0f275648-f034-4eec-a635-f6cc32f4916e')\"\n",
              "              title=\"Convert this dataframe to an interactive table.\"\n",
              "              style=\"display:none;\">\n",
              "        \n",
              "  <svg xmlns=\"http://www.w3.org/2000/svg\" height=\"24px\"viewBox=\"0 0 24 24\"\n",
              "       width=\"24px\">\n",
              "    <path d=\"M0 0h24v24H0V0z\" fill=\"none\"/>\n",
              "    <path d=\"M18.56 5.44l.94 2.06.94-2.06 2.06-.94-2.06-.94-.94-2.06-.94 2.06-2.06.94zm-11 1L8.5 8.5l.94-2.06 2.06-.94-2.06-.94L8.5 2.5l-.94 2.06-2.06.94zm10 10l.94 2.06.94-2.06 2.06-.94-2.06-.94-.94-2.06-.94 2.06-2.06.94z\"/><path d=\"M17.41 7.96l-1.37-1.37c-.4-.4-.92-.59-1.43-.59-.52 0-1.04.2-1.43.59L10.3 9.45l-7.72 7.72c-.78.78-.78 2.05 0 2.83L4 21.41c.39.39.9.59 1.41.59.51 0 1.02-.2 1.41-.59l7.78-7.78 2.81-2.81c.8-.78.8-2.07 0-2.86zM5.41 20L4 18.59l7.72-7.72 1.47 1.35L5.41 20z\"/>\n",
              "  </svg>\n",
              "      </button>\n",
              "      \n",
              "  <style>\n",
              "    .colab-df-container {\n",
              "      display:flex;\n",
              "      flex-wrap:wrap;\n",
              "      gap: 12px;\n",
              "    }\n",
              "\n",
              "    .colab-df-convert {\n",
              "      background-color: #E8F0FE;\n",
              "      border: none;\n",
              "      border-radius: 50%;\n",
              "      cursor: pointer;\n",
              "      display: none;\n",
              "      fill: #1967D2;\n",
              "      height: 32px;\n",
              "      padding: 0 0 0 0;\n",
              "      width: 32px;\n",
              "    }\n",
              "\n",
              "    .colab-df-convert:hover {\n",
              "      background-color: #E2EBFA;\n",
              "      box-shadow: 0px 1px 2px rgba(60, 64, 67, 0.3), 0px 1px 3px 1px rgba(60, 64, 67, 0.15);\n",
              "      fill: #174EA6;\n",
              "    }\n",
              "\n",
              "    [theme=dark] .colab-df-convert {\n",
              "      background-color: #3B4455;\n",
              "      fill: #D2E3FC;\n",
              "    }\n",
              "\n",
              "    [theme=dark] .colab-df-convert:hover {\n",
              "      background-color: #434B5C;\n",
              "      box-shadow: 0px 1px 3px 1px rgba(0, 0, 0, 0.15);\n",
              "      filter: drop-shadow(0px 1px 2px rgba(0, 0, 0, 0.3));\n",
              "      fill: #FFFFFF;\n",
              "    }\n",
              "  </style>\n",
              "\n",
              "      <script>\n",
              "        const buttonEl =\n",
              "          document.querySelector('#df-0f275648-f034-4eec-a635-f6cc32f4916e button.colab-df-convert');\n",
              "        buttonEl.style.display =\n",
              "          google.colab.kernel.accessAllowed ? 'block' : 'none';\n",
              "\n",
              "        async function convertToInteractive(key) {\n",
              "          const element = document.querySelector('#df-0f275648-f034-4eec-a635-f6cc32f4916e');\n",
              "          const dataTable =\n",
              "            await google.colab.kernel.invokeFunction('convertToInteractive',\n",
              "                                                     [key], {});\n",
              "          if (!dataTable) return;\n",
              "\n",
              "          const docLinkHtml = 'Like what you see? Visit the ' +\n",
              "            '<a target=\"_blank\" href=https://colab.research.google.com/notebooks/data_table.ipynb>data table notebook</a>'\n",
              "            + ' to learn more about interactive tables.';\n",
              "          element.innerHTML = '';\n",
              "          dataTable['output_type'] = 'display_data';\n",
              "          await google.colab.output.renderOutput(dataTable, element);\n",
              "          const docLink = document.createElement('div');\n",
              "          docLink.innerHTML = docLinkHtml;\n",
              "          element.appendChild(docLink);\n",
              "        }\n",
              "      </script>\n",
              "    </div>\n",
              "  </div>\n",
              "  "
            ]
          },
          "metadata": {},
          "execution_count": 126
        }
      ],
      "source": [
        "gdp_lab= pd.read_csv(\"/content/2357.TW.csv\")\n",
        "gdp_lab"
      ]
    },
    {
      "cell_type": "code",
      "execution_count": 127,
      "id": "4fea37d6",
      "metadata": {
        "colab": {
          "base_uri": "https://localhost:8080/"
        },
        "id": "4fea37d6",
        "outputId": "e22dfc24-2339-4c97-e4e6-31634b4119ff"
      },
      "outputs": [
        {
          "output_type": "execute_result",
          "data": {
            "text/plain": [
              "1343"
            ]
          },
          "metadata": {},
          "execution_count": 127
        }
      ],
      "source": [
        "#Hàm lấy số lượng mẫu\n",
        "len(gdp_lab)"
      ]
    },
    {
      "cell_type": "code",
      "execution_count": 128,
      "id": "d63b60a3",
      "metadata": {
        "colab": {
          "base_uri": "https://localhost:8080/"
        },
        "id": "d63b60a3",
        "outputId": "17552d49-61c8-4259-f0c0-7ffcdb8ed36e"
      },
      "outputs": [
        {
          "output_type": "execute_result",
          "data": {
            "text/plain": [
              "170.5"
            ]
          },
          "metadata": {},
          "execution_count": 128
        }
      ],
      "source": [
        "#Hàm tìm nhỏ nhất\n",
        "min(gdp_lab.Close)"
      ]
    },
    {
      "cell_type": "code",
      "execution_count": 129,
      "id": "a2a46819",
      "metadata": {
        "colab": {
          "base_uri": "https://localhost:8080/"
        },
        "id": "a2a46819",
        "outputId": "68087953-b027-4ecc-cad4-13d273ef26e5"
      },
      "outputs": [
        {
          "output_type": "execute_result",
          "data": {
            "text/plain": [
              "409.5"
            ]
          },
          "metadata": {},
          "execution_count": 129
        }
      ],
      "source": [
        "#Hàm tìm lớn nhất\n",
        "max(gdp_lab.Close)"
      ]
    },
    {
      "cell_type": "code",
      "execution_count": 130,
      "id": "22918b97",
      "metadata": {
        "colab": {
          "base_uri": "https://localhost:8080/"
        },
        "id": "22918b97",
        "outputId": "b204b6d8-f8c3-4e54-dfdb-1fd04d0c4828"
      },
      "outputs": [
        {
          "output_type": "execute_result",
          "data": {
            "text/plain": [
              "272.9002233804914"
            ]
          },
          "metadata": {},
          "execution_count": 130
        }
      ],
      "source": [
        "#Tính trung bình\n",
        "st.mean(gdp_lab.Close)"
      ]
    },
    {
      "cell_type": "code",
      "execution_count": 131,
      "id": "f4efa26b",
      "metadata": {
        "id": "f4efa26b",
        "outputId": "09aa9512-1827-4e9b-c7b8-b1eeef0d8319",
        "colab": {
          "base_uri": "https://localhost:8080/"
        }
      },
      "outputs": [
        {
          "output_type": "execute_result",
          "data": {
            "text/plain": [
              "262.5"
            ]
          },
          "metadata": {},
          "execution_count": 131
        }
      ],
      "source": [
        "#Tính Trung Vị\n",
        "st.median(gdp_lab.Close)"
      ]
    },
    {
      "cell_type": "code",
      "execution_count": 132,
      "id": "54d9a3a5",
      "metadata": {
        "id": "54d9a3a5",
        "outputId": "d5aef5d0-7c6b-423c-f33e-4ec251a7ea6f",
        "colab": {
          "base_uri": "https://localhost:8080/"
        }
      },
      "outputs": [
        {
          "output_type": "execute_result",
          "data": {
            "text/plain": [
              "3065.7746869843413"
            ]
          },
          "metadata": {},
          "execution_count": 132
        }
      ],
      "source": [
        "#Tính Phương sai\n",
        "st.variance(gdp_lab.Close)"
      ]
    },
    {
      "cell_type": "code",
      "execution_count": 133,
      "id": "662a03dd",
      "metadata": {
        "id": "662a03dd",
        "outputId": "78b8cdc2-82b2-4a0e-ba70-29f355994443",
        "colab": {
          "base_uri": "https://localhost:8080/"
        }
      },
      "outputs": [
        {
          "output_type": "execute_result",
          "data": {
            "text/plain": [
              "55.36943820361862"
            ]
          },
          "metadata": {},
          "execution_count": 133
        }
      ],
      "source": [
        "#Tính độ lệnh chuẩn\n",
        "st.stdev(gdp_lab.Close)"
      ]
    },
    {
      "cell_type": "code",
      "execution_count": 134,
      "id": "3295b2eb",
      "metadata": {
        "id": "3295b2eb",
        "outputId": "c556d9fb-276a-4889-88ed-cd3857aa72bb",
        "colab": {
          "base_uri": "https://localhost:8080/"
        }
      },
      "outputs": [
        {
          "output_type": "execute_result",
          "data": {
            "text/plain": [
              "0.2028926085795823"
            ]
          },
          "metadata": {},
          "execution_count": 134
        }
      ],
      "source": [
        "#Tính CV\n",
        "cv = st.stdev(gdp_lab.Close)/st.mean(gdp_lab.Close)\n",
        "cv"
      ]
    },
    {
      "cell_type": "code",
      "execution_count": 135,
      "id": "adbaee16",
      "metadata": {
        "id": "adbaee16",
        "outputId": "b7eff1d3-dddf-4183-8cc3-6b44833b1d40",
        "colab": {
          "base_uri": "https://localhost:8080/"
        }
      },
      "outputs": [
        {
          "output_type": "execute_result",
          "data": {
            "text/plain": [
              "0.6310480955081978"
            ]
          },
          "metadata": {},
          "execution_count": 135
        }
      ],
      "source": [
        "skew(gdp_lab.Close)"
      ]
    },
    {
      "cell_type": "code",
      "execution_count": 136,
      "id": "54e8c796",
      "metadata": {
        "id": "54e8c796",
        "outputId": "49cfb6a5-b2c7-49ab-b0c8-4dc870cded0e",
        "colab": {
          "base_uri": "https://localhost:8080/"
        }
      },
      "outputs": [
        {
          "output_type": "execute_result",
          "data": {
            "text/plain": [
              "-0.7008595342766513"
            ]
          },
          "metadata": {},
          "execution_count": 136
        }
      ],
      "source": [
        "kurtosis(gdp_lab.Close)"
      ]
    },
    {
      "cell_type": "code",
      "execution_count": 137,
      "id": "1aebe7c7",
      "metadata": {
        "id": "1aebe7c7",
        "outputId": "93570b6d-900b-4a8b-9465-71e9ed5440f6",
        "colab": {
          "base_uri": "https://localhost:8080/"
        }
      },
      "outputs": [
        {
          "output_type": "execute_result",
          "data": {
            "text/plain": [
              "228.5"
            ]
          },
          "metadata": {},
          "execution_count": 137
        }
      ],
      "source": [
        "np.quantile(gdp_lab.Close,0.25)"
      ]
    },
    {
      "cell_type": "code",
      "execution_count": 138,
      "id": "b742418d",
      "metadata": {
        "id": "b742418d"
      },
      "outputs": [],
      "source": [
        "import matplotlib.pyplot as plt"
      ]
    },
    {
      "cell_type": "code",
      "execution_count": 139,
      "id": "6af9cc83",
      "metadata": {
        "colab": {
          "base_uri": "https://localhost:8080/",
          "height": 430
        },
        "id": "6af9cc83",
        "outputId": "0a84c123-2aec-4332-9d42-8918b85c2fdd"
      },
      "outputs": [
        {
          "output_type": "display_data",
          "data": {
            "text/plain": [
              "<Figure size 640x480 with 1 Axes>"
            ],
            "image/png": "[encoded data removed]"
          },
          "metadata": {}
        }
      ],
      "source": [
        "# Creating plot\n",
        "plt.boxplot(gdp_lab.Close)\n",
        "\n",
        "# show plot\n",
        "plt.show()"
      ]
    },
    {
      "cell_type": "code",
      "execution_count": 140,
      "id": "4492aa09",
      "metadata": {
        "colab": {
          "base_uri": "https://localhost:8080/",
          "height": 430
        },
        "id": "4492aa09",
        "outputId": "63e8e688-3fa2-49f2-88c6-ec881f00376b"
      },
      "outputs": [
        {
          "output_type": "display_data",
          "data": {
            "text/plain": [
              "<Figure size 640x480 with 1 Axes>"
            ],
            "image/png": "[encoded data removed]"
          },
          "metadata": {}
        }
      ],
      "source": [
        "# Creating plot\n",
        "plt.hist(gdp_lab.Close)\n",
        "\n",
        "# show plot\n",
        "plt.show()"
      ]
    },
    {
      "cell_type": "code",
      "execution_count": 140,
      "id": "ddbc96e2",
      "metadata": {
        "id": "ddbc96e2"
      },
      "outputs": [],
      "source": []
    }
  ],
  "metadata": {
    "kernelspec": {
      "display_name": "Python 3 (ipykernel)",
      "language": "python",
      "name": "python3"
    },
    "language_info": {
      "codemirror_mode": {
        "name": "ipython",
        "version": 3
      },
      "file_extension": ".py",
      "mimetype": "text/x-python",
      "name": "python",
      "nbconvert_exporter": "python",
      "pygments_lexer": "ipython3",
      "version": "3.9.9"
    },
    "colab": {
      "provenance": []
    }
  },
  "nbformat": 4,
  "nbformat_minor": 5
}
