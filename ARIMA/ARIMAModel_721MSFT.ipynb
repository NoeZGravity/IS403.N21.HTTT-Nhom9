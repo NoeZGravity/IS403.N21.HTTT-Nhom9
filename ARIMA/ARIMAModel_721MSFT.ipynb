{
  "nbformat": 4,
  "nbformat_minor": 0,
  "metadata": {
    "colab": {
      "provenance": []
    },
    "kernelspec": {
      "name": "python3",
      "display_name": "Python 3"
    },
    "language_info": {
      "name": "python"
    }
  },
  "cells": [
    {
      "cell_type": "code",
      "source": [
        "import pandas as pd\n",
        "data = pd.read_csv(\"/content/MSFT.csv\")\n",
        "data.head()"
      ],
      "metadata": {
        "id": "i5YXW1V3wlPF",
        "colab": {
          "base_uri": "https://localhost:8080/",
          "height": 206
        },
        "outputId": "dadfa78d-f0af-4ccf-d27a-e89087ce1929"
      },
      "execution_count": 29,
      "outputs": [
        {
          "output_type": "execute_result",
          "data": {
            "text/plain": [
              "         Date       Open       High        Low      Close  Adj Close    Volume\n",
              "0  2017-12-01  83.599998  84.809998  83.220001  84.260002  78.978004  29532100\n",
              "1  2017-12-04  84.419998  84.430000  80.699997  81.080002  75.997337  39094900\n",
              "2  2017-12-05  81.339996  82.680000  80.980003  81.589996  76.475357  26152300\n",
              "3  2017-12-06  81.550003  83.139999  81.430000  82.779999  77.590767  26162100\n",
              "4  2017-12-07  82.540001  82.800003  82.000000  82.489998  77.318954  23184500"
            ],
            "text/html": [
              "\n",
              "  <div id=\"df-31236aca-009e-41a1-9000-aca45a2976f7\">\n",
              "    <div class=\"colab-df-container\">\n",
              "      <div>\n",
              "<style scoped>\n",
              "    .dataframe tbody tr th:only-of-type {\n",
              "        vertical-align: middle;\n",
              "    }\n",
              "\n",
              "    .dataframe tbody tr th {\n",
              "        vertical-align: top;\n",
              "    }\n",
              "\n",
              "    .dataframe thead th {\n",
              "        text-align: right;\n",
              "    }\n",
              "</style>\n",
              "<table border=\"1\" class=\"dataframe\">\n",
              "  <thead>\n",
              "    <tr style=\"text-align: right;\">\n",
              "      <th></th>\n",
              "      <th>Date</th>\n",
              "      <th>Open</th>\n",
              "      <th>High</th>\n",
              "      <th>Low</th>\n",
              "      <th>Close</th>\n",
              "      <th>Adj Close</th>\n",
              "      <th>Volume</th>\n",
              "    </tr>\n",
              "  </thead>\n",
              "  <tbody>\n",
              "    <tr>\n",
              "      <th>0</th>\n",
              "      <td>2017-12-01</td>\n",
              "      <td>83.599998</td>\n",
              "      <td>84.809998</td>\n",
              "      <td>83.220001</td>\n",
              "      <td>84.260002</td>\n",
              "      <td>78.978004</td>\n",
              "      <td>29532100</td>\n",
              "    </tr>\n",
              "    <tr>\n",
              "      <th>1</th>\n",
              "      <td>2017-12-04</td>\n",
              "      <td>84.419998</td>\n",
              "      <td>84.430000</td>\n",
              "      <td>80.699997</td>\n",
              "      <td>81.080002</td>\n",
              "      <td>75.997337</td>\n",
              "      <td>39094900</td>\n",
              "    </tr>\n",
              "    <tr>\n",
              "      <th>2</th>\n",
              "      <td>2017-12-05</td>\n",
              "      <td>81.339996</td>\n",
              "      <td>82.680000</td>\n",
              "      <td>80.980003</td>\n",
              "      <td>81.589996</td>\n",
              "      <td>76.475357</td>\n",
              "      <td>26152300</td>\n",
              "    </tr>\n",
              "    <tr>\n",
              "      <th>3</th>\n",
              "      <td>2017-12-06</td>\n",
              "      <td>81.550003</td>\n",
              "      <td>83.139999</td>\n",
              "      <td>81.430000</td>\n",
              "      <td>82.779999</td>\n",
              "      <td>77.590767</td>\n",
              "      <td>26162100</td>\n",
              "    </tr>\n",
              "    <tr>\n",
              "      <th>4</th>\n",
              "      <td>2017-12-07</td>\n",
              "      <td>82.540001</td>\n",
              "      <td>82.800003</td>\n",
              "      <td>82.000000</td>\n",
              "      <td>82.489998</td>\n",
              "      <td>77.318954</td>\n",
              "      <td>23184500</td>\n",
              "    </tr>\n",
              "  </tbody>\n",
              "</table>\n",
              "</div>\n",
              "      <button class=\"colab-df-convert\" onclick=\"convertToInteractive('df-31236aca-009e-41a1-9000-aca45a2976f7')\"\n",
              "              title=\"Convert this dataframe to an interactive table.\"\n",
              "              style=\"display:none;\">\n",
              "        \n",
              "  <svg xmlns=\"http://www.w3.org/2000/svg\" height=\"24px\"viewBox=\"0 0 24 24\"\n",
              "       width=\"24px\">\n",
              "    <path d=\"M0 0h24v24H0V0z\" fill=\"none\"/>\n",
              "    <path d=\"M18.56 5.44l.94 2.06.94-2.06 2.06-.94-2.06-.94-.94-2.06-.94 2.06-2.06.94zm-11 1L8.5 8.5l.94-2.06 2.06-.94-2.06-.94L8.5 2.5l-.94 2.06-2.06.94zm10 10l.94 2.06.94-2.06 2.06-.94-2.06-.94-.94-2.06-.94 2.06-2.06.94z\"/><path d=\"M17.41 7.96l-1.37-1.37c-.4-.4-.92-.59-1.43-.59-.52 0-1.04.2-1.43.59L10.3 9.45l-7.72 7.72c-.78.78-.78 2.05 0 2.83L4 21.41c.39.39.9.59 1.41.59.51 0 1.02-.2 1.41-.59l7.78-7.78 2.81-2.81c.8-.78.8-2.07 0-2.86zM5.41 20L4 18.59l7.72-7.72 1.47 1.35L5.41 20z\"/>\n",
              "  </svg>\n",
              "      </button>\n",
              "      \n",
              "  <style>\n",
              "    .colab-df-container {\n",
              "      display:flex;\n",
              "      flex-wrap:wrap;\n",
              "      gap: 12px;\n",
              "    }\n",
              "\n",
              "    .colab-df-convert {\n",
              "      background-color: #E8F0FE;\n",
              "      border: none;\n",
              "      border-radius: 50%;\n",
              "      cursor: pointer;\n",
              "      display: none;\n",
              "      fill: #1967D2;\n",
              "      height: 32px;\n",
              "      padding: 0 0 0 0;\n",
              "      width: 32px;\n",
              "    }\n",
              "\n",
              "    .colab-df-convert:hover {\n",
              "      background-color: #E2EBFA;\n",
              "      box-shadow: 0px 1px 2px rgba(60, 64, 67, 0.3), 0px 1px 3px 1px rgba(60, 64, 67, 0.15);\n",
              "      fill: #174EA6;\n",
              "    }\n",
              "\n",
              "    [theme=dark] .colab-df-convert {\n",
              "      background-color: #3B4455;\n",
              "      fill: #D2E3FC;\n",
              "    }\n",
              "\n",
              "    [theme=dark] .colab-df-convert:hover {\n",
              "      background-color: #434B5C;\n",
              "      box-shadow: 0px 1px 3px 1px rgba(0, 0, 0, 0.15);\n",
              "      filter: drop-shadow(0px 1px 2px rgba(0, 0, 0, 0.3));\n",
              "      fill: #FFFFFF;\n",
              "    }\n",
              "  </style>\n",
              "\n",
              "      <script>\n",
              "        const buttonEl =\n",
              "          document.querySelector('#df-31236aca-009e-41a1-9000-aca45a2976f7 button.colab-df-convert');\n",
              "        buttonEl.style.display =\n",
              "          google.colab.kernel.accessAllowed ? 'block' : 'none';\n",
              "\n",
              "        async function convertToInteractive(key) {\n",
              "          const element = document.querySelector('#df-31236aca-009e-41a1-9000-aca45a2976f7');\n",
              "          const dataTable =\n",
              "            await google.colab.kernel.invokeFunction('convertToInteractive',\n",
              "                                                     [key], {});\n",
              "          if (!dataTable) return;\n",
              "\n",
              "          const docLinkHtml = 'Like what you see? Visit the ' +\n",
              "            '<a target=\"_blank\" href=https://colab.research.google.com/notebooks/data_table.ipynb>data table notebook</a>'\n",
              "            + ' to learn more about interactive tables.';\n",
              "          element.innerHTML = '';\n",
              "          dataTable['output_type'] = 'display_data';\n",
              "          await google.colab.output.renderOutput(dataTable, element);\n",
              "          const docLink = document.createElement('div');\n",
              "          docLink.innerHTML = docLinkHtml;\n",
              "          element.appendChild(docLink);\n",
              "        }\n",
              "      </script>\n",
              "    </div>\n",
              "  </div>\n",
              "  "
            ]
          },
          "metadata": {},
          "execution_count": 29
        }
      ]
    },
    {
      "cell_type": "code",
      "source": [
        "data['Date'] =pd.to_datetime(data['Date'])\n",
        "data.index= data['Date']"
      ],
      "metadata": {
        "id": "qd6j8iYhKUNC"
      },
      "execution_count": 30,
      "outputs": []
    },
    {
      "cell_type": "code",
      "source": [
        "import matplotlib.pyplot as plt\n",
        "plt.plot(data.index,data['Close'])"
      ],
      "metadata": {
        "colab": {
          "base_uri": "https://localhost:8080/",
          "height": 447
        },
        "id": "oNgo3rbNnyaZ",
        "outputId": "d28ca68c-9eb7-475b-ac82-99b80bbbe778"
      },
      "execution_count": 31,
      "outputs": [
        {
          "output_type": "execute_result",
          "data": {
            "text/plain": [
              "[<matplotlib.lines.Line2D at 0x7f0aa2043400>]"
            ]
          },
          "metadata": {},
          "execution_count": 31
        },
        {
          "output_type": "display_data",
          "data": {
            "text/plain": [
              "<Figure size 640x480 with 1 Axes>"
            ],
            "image/png": "[encoded data removed]"
          },
          "metadata": {}
        }
      ]
    },
    {
      "cell_type": "code",
      "source": [
        "# 1. Các thư viện cần thiết\n",
        "import numpy as np\n",
        "import pandas as pd\n",
        "import matplotlib.pyplot as plt\n",
        "from sklearn.preprocessing import MinMaxScaler\n",
        "from sklearn.linear_model import LinearRegression\n"
      ],
      "metadata": {
        "id": "TOsoPjnYzZCW"
      },
      "execution_count": 32,
      "outputs": []
    },
    {
      "cell_type": "code",
      "source": [
        "# 2. Đọc file dữ liệu chứng khoán DELL và chia train test validate theo tỉ lệ 7:1:2\n",
        "df = pd.read_csv('/content/MSFT.csv')\n",
        "df = df[['Close']]\n",
        "df = df.dropna() # Drop missing values\n",
        "df = df.reset_index(drop=True) # Reset the index\n",
        "\n",
        "\n",
        "\n",
        "# Split the data into training, testing, and validation sets\n",
        "train_size = int(0.7 * len(df))\n",
        "test_size = int(0.2 * len(df))\n",
        "val_size = len(df) - train_size - test_size\n",
        "\n",
        "train_data = df[:train_size]\n",
        "test_data = df[train_size:train_size+test_size]\n",
        "val_data = df[train_size+test_size:]"
      ],
      "metadata": {
        "id": "gJuOh8-y_Uif"
      },
      "execution_count": 33,
      "outputs": []
    },
    {
      "cell_type": "code",
      "source": [
        "!pip install pmdarima"
      ],
      "metadata": {
        "colab": {
          "base_uri": "https://localhost:8080/"
        },
        "id": "7UFsUvowFUjd",
        "outputId": "733e591f-181f-488f-9ffb-77c20b362e82"
      },
      "execution_count": 34,
      "outputs": [
        {
          "output_type": "stream",
          "name": "stdout",
          "text": [
            "Looking in indexes: https://pypi.org/simple, https://us-python.pkg.dev/colab-wheels/public/simple/\n",
            "Requirement already satisfied: pmdarima in /usr/local/lib/python3.10/dist-packages (2.0.3)\n",
            "Requirement already satisfied: joblib>=0.11 in /usr/local/lib/python3.10/dist-packages (from pmdarima) (1.2.0)\n",
            "Requirement already satisfied: Cython!=0.29.18,!=0.29.31,>=0.29 in /usr/local/lib/python3.10/dist-packages (from pmdarima) (0.29.34)\n",
            "Requirement already satisfied: numpy>=1.21.2 in /usr/local/lib/python3.10/dist-packages (from pmdarima) (1.22.4)\n",
            "Requirement already satisfied: pandas>=0.19 in /usr/local/lib/python3.10/dist-packages (from pmdarima) (1.5.3)\n",
            "Requirement already satisfied: scikit-learn>=0.22 in /usr/local/lib/python3.10/dist-packages (from pmdarima) (1.2.2)\n",
            "Requirement already satisfied: scipy>=1.3.2 in /usr/local/lib/python3.10/dist-packages (from pmdarima) (1.10.1)\n",
            "Requirement already satisfied: statsmodels>=0.13.2 in /usr/local/lib/python3.10/dist-packages (from pmdarima) (0.13.5)\n",
            "Requirement already satisfied: urllib3 in /usr/local/lib/python3.10/dist-packages (from pmdarima) (1.26.15)\n",
            "Requirement already satisfied: setuptools!=50.0.0,>=38.6.0 in /usr/local/lib/python3.10/dist-packages (from pmdarima) (67.7.2)\n",
            "Requirement already satisfied: python-dateutil>=2.8.1 in /usr/local/lib/python3.10/dist-packages (from pandas>=0.19->pmdarima) (2.8.2)\n",
            "Requirement already satisfied: pytz>=2020.1 in /usr/local/lib/python3.10/dist-packages (from pandas>=0.19->pmdarima) (2022.7.1)\n",
            "Requirement already satisfied: threadpoolctl>=2.0.0 in /usr/local/lib/python3.10/dist-packages (from scikit-learn>=0.22->pmdarima) (3.1.0)\n",
            "Requirement already satisfied: patsy>=0.5.2 in /usr/local/lib/python3.10/dist-packages (from statsmodels>=0.13.2->pmdarima) (0.5.3)\n",
            "Requirement already satisfied: packaging>=21.3 in /usr/local/lib/python3.10/dist-packages (from statsmodels>=0.13.2->pmdarima) (23.1)\n",
            "Requirement already satisfied: six in /usr/local/lib/python3.10/dist-packages (from patsy>=0.5.2->statsmodels>=0.13.2->pmdarima) (1.16.0)\n"
          ]
        }
      ]
    },
    {
      "cell_type": "code",
      "source": [
        "# 3. Quá trình Training\n",
        "x_train = np.array(train_data.index).reshape(-1, 1)\n",
        "y_train = np.array(train_data['Close'])\n",
        "\n",
        "# Find the best ARIMA model using auto_arima\n",
        "from pmdarima.arima import auto_arima\n",
        "model = auto_arima(y_train, trace=True, error_action='ignore', suppress_warnings=True)\n",
        "\n",
        "# Fit the model\n",
        "fit = model.fit(y_train)"
      ],
      "metadata": {
        "colab": {
          "base_uri": "https://localhost:8080/"
        },
        "id": "JbQNK8an_imI",
        "outputId": "e5f68fdd-74e3-43ed-c530-a4c0646d5064"
      },
      "execution_count": 35,
      "outputs": [
        {
          "output_type": "stream",
          "name": "stdout",
          "text": [
            "Performing stepwise search to minimize aic\n",
            " ARIMA(2,1,2)(0,0,0)[0] intercept   : AIC=4891.892, Time=1.59 sec\n",
            " ARIMA(0,1,0)(0,0,0)[0] intercept   : AIC=4957.574, Time=0.04 sec\n",
            " ARIMA(1,1,0)(0,0,0)[0] intercept   : AIC=4905.109, Time=0.12 sec\n",
            " ARIMA(0,1,1)(0,0,0)[0] intercept   : AIC=4908.363, Time=0.16 sec\n",
            " ARIMA(0,1,0)(0,0,0)[0]             : AIC=4960.397, Time=0.04 sec\n",
            " ARIMA(1,1,2)(0,0,0)[0] intercept   : AIC=4909.060, Time=0.45 sec\n",
            " ARIMA(2,1,1)(0,0,0)[0] intercept   : AIC=4909.069, Time=0.90 sec\n",
            " ARIMA(3,1,2)(0,0,0)[0] intercept   : AIC=4909.707, Time=2.15 sec\n",
            " ARIMA(2,1,3)(0,0,0)[0] intercept   : AIC=4906.085, Time=7.99 sec\n",
            " ARIMA(1,1,1)(0,0,0)[0] intercept   : AIC=4907.071, Time=0.66 sec\n",
            " ARIMA(1,1,3)(0,0,0)[0] intercept   : AIC=4905.603, Time=5.04 sec\n",
            " ARIMA(3,1,1)(0,0,0)[0] intercept   : AIC=4911.070, Time=0.90 sec\n",
            " ARIMA(3,1,3)(0,0,0)[0] intercept   : AIC=inf, Time=8.26 sec\n",
            " ARIMA(2,1,2)(0,0,0)[0]             : AIC=4895.913, Time=1.64 sec\n",
            "\n",
            "Best model:  ARIMA(2,1,2)(0,0,0)[0] intercept\n",
            "Total fit time: 29.991 seconds\n"
          ]
        }
      ]
    },
    {
      "cell_type": "code",
      "source": [
        "train_data.index"
      ],
      "metadata": {
        "colab": {
          "base_uri": "https://localhost:8080/"
        },
        "id": "okHz2X6thfRp",
        "outputId": "fbfcb26f-a822-42e2-89dd-25e59ed75eb4"
      },
      "execution_count": 36,
      "outputs": [
        {
          "output_type": "execute_result",
          "data": {
            "text/plain": [
              "RangeIndex(start=0, stop=973, step=1)"
            ]
          },
          "metadata": {},
          "execution_count": 36
        }
      ]
    },
    {
      "cell_type": "code",
      "source": [
        "# 4. Quá trình testing\n",
        "x_test = np.array(test_data.index).reshape(-1, 1)\n",
        "y_test = np.array(test_data['Close'])\n",
        "y_pred = model.predict(n_periods=len(y_test))\n",
        "\n",
        "# 5. Quá trình Validate\n",
        "x_val= np.array(val_data.index).reshape(-1, 1)\n",
        "y_val = np.array(val_data['Close'])\n",
        "y_pred_val =  model.predict(n_periods=len(y_val))"
      ],
      "metadata": {
        "id": "tq3vSOvd_xL3"
      },
      "execution_count": 37,
      "outputs": []
    },
    {
      "cell_type": "code",
      "source": [
        "\n",
        "from datetime import timedelta"
      ],
      "metadata": {
        "id": "gHAX1R5sYjyt"
      },
      "execution_count": 38,
      "outputs": []
    },
    {
      "cell_type": "code",
      "source": [
        "# 6. Quá trình tạo index predict 30 ngày tiếp theo\n",
        "#last_index =  df.index[-1]\n",
        "last_index=len(df)\n",
        "last_data = pd.RangeIndex(start=last_index, stop=last_index+30, step=1)\n",
        "\n",
        "# Create an array of 30 consecutive integers starting from last_index\n",
        "x_next_30_days = np.array(range(last_index+1, last_index+31)).reshape(-1, 1)\n",
        "\n",
        "# Predict the closing prices for the next 30 days\n",
        "y_next_30_days = model.predict(n_periods=len(x_next_30_days))\n",
        "\n",
        "# Print the predicted closing prices for the next 30 days\n",
        "print('Predicted closing prices for the next 30 days:')\n",
        "print(y_next_30_days)"
      ],
      "metadata": {
        "colab": {
          "base_uri": "https://localhost:8080/"
        },
        "id": "mI2qmayj_-rD",
        "outputId": "d3563a06-485e-4a3b-ad4f-becc591596e2"
      },
      "execution_count": 39,
      "outputs": [
        {
          "output_type": "stream",
          "name": "stdout",
          "text": [
            "Predicted closing prices for the next 30 days:\n",
            "[296.97611175 296.8207698  297.29241206 297.4028084  297.58516286\n",
            " 297.9626072  297.93741154 298.43876093 298.38223735 298.82821787\n",
            " 298.89563116 299.17538713 299.42172561 299.53796406 299.90980264\n",
            " 299.95292707 300.34056805 300.42102616 300.72981481 300.9141636\n",
            " 301.11235664 301.39676242 301.51914552 301.84658071 301.96139155\n",
            " 302.26385359 302.42875351 302.66633596 302.89955318 303.0759521 ]\n"
          ]
        }
      ]
    },
    {
      "cell_type": "code",
      "source": [
        "# 7. Đánh giá độ chính xác validate, test\n",
        "valid_rmse = np.sqrt(np.mean((y_pred_val - y_val)**2))\n",
        "test_rmse = np.sqrt(np.mean((y_pred - y_test)**2))\n",
        "print('Validation RMSE:', valid_rmse)\n",
        "print('Testing RMSE:', test_rmse)\n"
      ],
      "metadata": {
        "id": "JwcVt4wgAHCy",
        "colab": {
          "base_uri": "https://localhost:8080/"
        },
        "outputId": "1e432116-d5c6-4cd6-d1b2-9c6a942f316d"
      },
      "execution_count": 40,
      "outputs": [
        {
          "output_type": "stream",
          "name": "stdout",
          "text": [
            "Validation RMSE: 46.167644718645995\n",
            "Testing RMSE: 65.97254434654695\n"
          ]
        }
      ]
    },
    {
      "cell_type": "markdown",
      "source": [
        "RMSE thường được sử dụng để đánh giá độ chính xác của mô hình dự đoán với các giá trị liên tục, như giá cổ phiếu, điểm số, nhiệt độ, v.v. Giá trị RMSE càng nhỏ, mô hình dự đoán càng chính xác. Vậy với dữ liệu này mô hình Arima chính xác hơn"
      ],
      "metadata": {
        "id": "vmi2eKcK6n9z"
      }
    },
    {
      "cell_type": "code",
      "source": [
        "\n",
        "\n",
        "# 8. Tính RMSE, MAE, MAPE\n",
        "valid_rmse = np.sqrt(np.mean((y_pred_val - y_val)**2))\n",
        "test_rmse = np.sqrt(np.mean((y_pred - y_test)**2))\n",
        "valid_mae= np.mean(np.abs(y_pred_val - y_val))\n",
        "test_mae= np.mean(np.abs(y_pred - y_test))\n",
        "valid_mape= np.mean(np.abs((y_pred_val - y_val) / y_val))\n",
        "test_mape= np.mean(np.abs((y_pred - y_test) /y_test))\n",
        "print('Validation RMSE:', valid_rmse)\n",
        "print('Testing RMSE:', test_rmse)\n",
        "print('Validation MAE:', valid_mae)\n",
        "print('Testing MAE:', test_mae)\n",
        "print('Validation MAPE:', valid_mape)\n",
        "print('Testing MAPE:', test_mape)\n",
        "\n",
        "# 9.Vẽ hình\n",
        "plt.plot(train_data.index, train_data['Close'])\n",
        "plt.plot(test_data.index, test_data['Close'])\n",
        "plt.plot(test_data.index, y_pred)\n",
        "plt.plot(val_data.index, y_pred_val)\n",
        "plt.plot(last_data,y_next_30_days)\n",
        "plt.legend(['Train', 'Test', 'Predictions','Validate','Next30Day'])\n",
        "plt.show()"
      ],
      "metadata": {
        "colab": {
          "base_uri": "https://localhost:8080/",
          "height": 534
        },
        "id": "DE3Pge7a0EHs",
        "outputId": "46769583-6025-42e4-ae7a-02567b56e346"
      },
      "execution_count": 41,
      "outputs": [
        {
          "output_type": "stream",
          "name": "stdout",
          "text": [
            "Validation RMSE: 46.167644718645995\n",
            "Testing RMSE: 65.97254434654695\n",
            "Validation MAE: 40.930302392137804\n",
            "Testing MAE: 54.97903208163895\n",
            "Validation MAPE: 0.1608105810590438\n",
            "Testing MAPE: 0.2107320829941133\n"
          ]
        },
        {
          "output_type": "display_data",
          "data": {
            "text/plain": [
              "<Figure size 640x480 with 1 Axes>"
            ],
            "image/png": "[encoded data removed]"
          },
          "metadata": {}
        }
      ]
    },
    {
      "cell_type": "code",
      "source": [
        "test_data.index"
      ],
      "metadata": {
        "colab": {
          "base_uri": "https://localhost:8080/"
        },
        "id": "Eyxpcd3v7i-k",
        "outputId": "07a66e0b-15de-474e-c0e5-47872157aa7e"
      },
      "execution_count": 42,
      "outputs": [
        {
          "output_type": "execute_result",
          "data": {
            "text/plain": [
              "RangeIndex(start=973, stop=1251, step=1)"
            ]
          },
          "metadata": {},
          "execution_count": 42
        }
      ]
    }
  ]
}