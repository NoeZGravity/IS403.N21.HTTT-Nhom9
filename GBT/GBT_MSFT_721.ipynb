{
  "nbformat": 4,
  "nbformat_minor": 0,
  "metadata": {
    "colab": {
      "provenance": []
    },
    "kernelspec": {
      "name": "python3",
      "display_name": "Python 3"
    },
    "language_info": {
      "name": "python"
    }
  },
  "cells": [
    {
      "cell_type": "code",
      "execution_count": 144,
      "metadata": {
        "id": "4qfjzeREGi7k"
      },
      "outputs": [],
      "source": [
        "# 1. Import thư viện cần thiết\n",
        "import numpy as np\n",
        "import pandas as pd\n",
        "import matplotlib.pyplot as plt\n",
        "from sklearn.ensemble import GradientBoostingRegressor\n",
        "from sklearn.model_selection import train_test_split\n",
        "from sklearn.metrics import mean_squared_error"
      ]
    },
    {
      "cell_type": "code",
      "source": [
        "df = pd.read_csv('/content/MSFT.csv')\n",
        "df"
      ],
      "metadata": {
        "colab": {
          "base_uri": "https://localhost:8080/",
          "height": 423
        },
        "id": "2NVjOxSwGx5o",
        "outputId": "1fc6c67c-cc3c-403e-cf4b-c590efb887d5"
      },
      "execution_count": 145,
      "outputs": [
        {
          "output_type": "execute_result",
          "data": {
            "text/plain": [
              "            Date        Open        High         Low       Close   Adj Close  \\\n",
              "0     2017-12-01   83.599998   84.809998   83.220001   84.260002   78.978004   \n",
              "1     2017-12-04   84.419998   84.430000   80.699997   81.080002   75.997337   \n",
              "2     2017-12-05   81.339996   82.680000   80.980003   81.589996   76.475357   \n",
              "3     2017-12-06   81.550003   83.139999   81.430000   82.779999   77.590767   \n",
              "4     2017-12-07   82.540001   82.800003   82.000000   82.489998   77.318954   \n",
              "...          ...         ...         ...         ...         ...         ...   \n",
              "1386  2023-06-07  331.649994  334.489990  322.500000  323.380005  323.380005   \n",
              "1387  2023-06-08  323.940002  326.640015  323.350006  325.260010  325.260010   \n",
              "1388  2023-06-09  324.989990  329.989990  324.410004  326.790009  326.790009   \n",
              "1389  2023-06-12  328.579987  332.100006  325.160004  331.850006  331.850006   \n",
              "1390  2023-06-13  334.470001  336.980011  330.390015  334.290009  334.290009   \n",
              "\n",
              "        Volume  \n",
              "0     29532100  \n",
              "1     39094900  \n",
              "2     26152300  \n",
              "3     26162100  \n",
              "4     23184500  \n",
              "...        ...  \n",
              "1386  40717100  \n",
              "1387  23277700  \n",
              "1388  22514900  \n",
              "1389  24260300  \n",
              "1390  22951300  \n",
              "\n",
              "[1391 rows x 7 columns]"
            ],
            "text/html": [
              "\n",
              "  <div id=\"df-de6b2aa1-caae-41b0-82ae-2102a0768411\">\n",
              "    <div class=\"colab-df-container\">\n",
              "      <div>\n",
              "<style scoped>\n",
              "    .dataframe tbody tr th:only-of-type {\n",
              "        vertical-align: middle;\n",
              "    }\n",
              "\n",
              "    .dataframe tbody tr th {\n",
              "        vertical-align: top;\n",
              "    }\n",
              "\n",
              "    .dataframe thead th {\n",
              "        text-align: right;\n",
              "    }\n",
              "</style>\n",
              "<table border=\"1\" class=\"dataframe\">\n",
              "  <thead>\n",
              "    <tr style=\"text-align: right;\">\n",
              "      <th></th>\n",
              "      <th>Date</th>\n",
              "      <th>Open</th>\n",
              "      <th>High</th>\n",
              "      <th>Low</th>\n",
              "      <th>Close</th>\n",
              "      <th>Adj Close</th>\n",
              "      <th>Volume</th>\n",
              "    </tr>\n",
              "  </thead>\n",
              "  <tbody>\n",
              "    <tr>\n",
              "      <th>0</th>\n",
              "      <td>2017-12-01</td>\n",
              "      <td>83.599998</td>\n",
              "      <td>84.809998</td>\n",
              "      <td>83.220001</td>\n",
              "      <td>84.260002</td>\n",
              "      <td>78.978004</td>\n",
              "      <td>29532100</td>\n",
              "    </tr>\n",
              "    <tr>\n",
              "      <th>1</th>\n",
              "      <td>2017-12-04</td>\n",
              "      <td>84.419998</td>\n",
              "      <td>84.430000</td>\n",
              "      <td>80.699997</td>\n",
              "      <td>81.080002</td>\n",
              "      <td>75.997337</td>\n",
              "      <td>39094900</td>\n",
              "    </tr>\n",
              "    <tr>\n",
              "      <th>2</th>\n",
              "      <td>2017-12-05</td>\n",
              "      <td>81.339996</td>\n",
              "      <td>82.680000</td>\n",
              "      <td>80.980003</td>\n",
              "      <td>81.589996</td>\n",
              "      <td>76.475357</td>\n",
              "      <td>26152300</td>\n",
              "    </tr>\n",
              "    <tr>\n",
              "      <th>3</th>\n",
              "      <td>2017-12-06</td>\n",
              "      <td>81.550003</td>\n",
              "      <td>83.139999</td>\n",
              "      <td>81.430000</td>\n",
              "      <td>82.779999</td>\n",
              "      <td>77.590767</td>\n",
              "      <td>26162100</td>\n",
              "    </tr>\n",
              "    <tr>\n",
              "      <th>4</th>\n",
              "      <td>2017-12-07</td>\n",
              "      <td>82.540001</td>\n",
              "      <td>82.800003</td>\n",
              "      <td>82.000000</td>\n",
              "      <td>82.489998</td>\n",
              "      <td>77.318954</td>\n",
              "      <td>23184500</td>\n",
              "    </tr>\n",
              "    <tr>\n",
              "      <th>...</th>\n",
              "      <td>...</td>\n",
              "      <td>...</td>\n",
              "      <td>...</td>\n",
              "      <td>...</td>\n",
              "      <td>...</td>\n",
              "      <td>...</td>\n",
              "      <td>...</td>\n",
              "    </tr>\n",
              "    <tr>\n",
              "      <th>1386</th>\n",
              "      <td>2023-06-07</td>\n",
              "      <td>331.649994</td>\n",
              "      <td>334.489990</td>\n",
              "      <td>322.500000</td>\n",
              "      <td>323.380005</td>\n",
              "      <td>323.380005</td>\n",
              "      <td>40717100</td>\n",
              "    </tr>\n",
              "    <tr>\n",
              "      <th>1387</th>\n",
              "      <td>2023-06-08</td>\n",
              "      <td>323.940002</td>\n",
              "      <td>326.640015</td>\n",
              "      <td>323.350006</td>\n",
              "      <td>325.260010</td>\n",
              "      <td>325.260010</td>\n",
              "      <td>23277700</td>\n",
              "    </tr>\n",
              "    <tr>\n",
              "      <th>1388</th>\n",
              "      <td>2023-06-09</td>\n",
              "      <td>324.989990</td>\n",
              "      <td>329.989990</td>\n",
              "      <td>324.410004</td>\n",
              "      <td>326.790009</td>\n",
              "      <td>326.790009</td>\n",
              "      <td>22514900</td>\n",
              "    </tr>\n",
              "    <tr>\n",
              "      <th>1389</th>\n",
              "      <td>2023-06-12</td>\n",
              "      <td>328.579987</td>\n",
              "      <td>332.100006</td>\n",
              "      <td>325.160004</td>\n",
              "      <td>331.850006</td>\n",
              "      <td>331.850006</td>\n",
              "      <td>24260300</td>\n",
              "    </tr>\n",
              "    <tr>\n",
              "      <th>1390</th>\n",
              "      <td>2023-06-13</td>\n",
              "      <td>334.470001</td>\n",
              "      <td>336.980011</td>\n",
              "      <td>330.390015</td>\n",
              "      <td>334.290009</td>\n",
              "      <td>334.290009</td>\n",
              "      <td>22951300</td>\n",
              "    </tr>\n",
              "  </tbody>\n",
              "</table>\n",
              "<p>1391 rows × 7 columns</p>\n",
              "</div>\n",
              "      <button class=\"colab-df-convert\" onclick=\"convertToInteractive('df-de6b2aa1-caae-41b0-82ae-2102a0768411')\"\n",
              "              title=\"Convert this dataframe to an interactive table.\"\n",
              "              style=\"display:none;\">\n",
              "        \n",
              "  <svg xmlns=\"http://www.w3.org/2000/svg\" height=\"24px\"viewBox=\"0 0 24 24\"\n",
              "       width=\"24px\">\n",
              "    <path d=\"M0 0h24v24H0V0z\" fill=\"none\"/>\n",
              "    <path d=\"M18.56 5.44l.94 2.06.94-2.06 2.06-.94-2.06-.94-.94-2.06-.94 2.06-2.06.94zm-11 1L8.5 8.5l.94-2.06 2.06-.94-2.06-.94L8.5 2.5l-.94 2.06-2.06.94zm10 10l.94 2.06.94-2.06 2.06-.94-2.06-.94-.94-2.06-.94 2.06-2.06.94z\"/><path d=\"M17.41 7.96l-1.37-1.37c-.4-.4-.92-.59-1.43-.59-.52 0-1.04.2-1.43.59L10.3 9.45l-7.72 7.72c-.78.78-.78 2.05 0 2.83L4 21.41c.39.39.9.59 1.41.59.51 0 1.02-.2 1.41-.59l7.78-7.78 2.81-2.81c.8-.78.8-2.07 0-2.86zM5.41 20L4 18.59l7.72-7.72 1.47 1.35L5.41 20z\"/>\n",
              "  </svg>\n",
              "      </button>\n",
              "      \n",
              "  <style>\n",
              "    .colab-df-container {\n",
              "      display:flex;\n",
              "      flex-wrap:wrap;\n",
              "      gap: 12px;\n",
              "    }\n",
              "\n",
              "    .colab-df-convert {\n",
              "      background-color: #E8F0FE;\n",
              "      border: none;\n",
              "      border-radius: 50%;\n",
              "      cursor: pointer;\n",
              "      display: none;\n",
              "      fill: #1967D2;\n",
              "      height: 32px;\n",
              "      padding: 0 0 0 0;\n",
              "      width: 32px;\n",
              "    }\n",
              "\n",
              "    .colab-df-convert:hover {\n",
              "      background-color: #E2EBFA;\n",
              "      box-shadow: 0px 1px 2px rgba(60, 64, 67, 0.3), 0px 1px 3px 1px rgba(60, 64, 67, 0.15);\n",
              "      fill: #174EA6;\n",
              "    }\n",
              "\n",
              "    [theme=dark] .colab-df-convert {\n",
              "      background-color: #3B4455;\n",
              "      fill: #D2E3FC;\n",
              "    }\n",
              "\n",
              "    [theme=dark] .colab-df-convert:hover {\n",
              "      background-color: #434B5C;\n",
              "      box-shadow: 0px 1px 3px 1px rgba(0, 0, 0, 0.15);\n",
              "      filter: drop-shadow(0px 1px 2px rgba(0, 0, 0, 0.3));\n",
              "      fill: #FFFFFF;\n",
              "    }\n",
              "  </style>\n",
              "\n",
              "      <script>\n",
              "        const buttonEl =\n",
              "          document.querySelector('#df-de6b2aa1-caae-41b0-82ae-2102a0768411 button.colab-df-convert');\n",
              "        buttonEl.style.display =\n",
              "          google.colab.kernel.accessAllowed ? 'block' : 'none';\n",
              "\n",
              "        async function convertToInteractive(key) {\n",
              "          const element = document.querySelector('#df-de6b2aa1-caae-41b0-82ae-2102a0768411');\n",
              "          const dataTable =\n",
              "            await google.colab.kernel.invokeFunction('convertToInteractive',\n",
              "                                                     [key], {});\n",
              "          if (!dataTable) return;\n",
              "\n",
              "          const docLinkHtml = 'Like what you see? Visit the ' +\n",
              "            '<a target=\"_blank\" href=https://colab.research.google.com/notebooks/data_table.ipynb>data table notebook</a>'\n",
              "            + ' to learn more about interactive tables.';\n",
              "          element.innerHTML = '';\n",
              "          dataTable['output_type'] = 'display_data';\n",
              "          await google.colab.output.renderOutput(dataTable, element);\n",
              "          const docLink = document.createElement('div');\n",
              "          docLink.innerHTML = docLinkHtml;\n",
              "          element.appendChild(docLink);\n",
              "        }\n",
              "      </script>\n",
              "    </div>\n",
              "  </div>\n",
              "  "
            ]
          },
          "metadata": {},
          "execution_count": 145
        }
      ]
    },
    {
      "cell_type": "code",
      "source": [
        "# Extract the input features (X) and the target variable (y)\n",
        "X = df[['Open', 'High', 'Low', 'Adj Close', 'Volume']].values\n",
        "y = df['Close'].values"
      ],
      "metadata": {
        "id": "M_D0cgQ7G6O-"
      },
      "execution_count": 146,
      "outputs": []
    },
    {
      "cell_type": "code",
      "source": [
        "train_s = int(X.shape[0]*0.7)\n",
        "test_s = int(X.shape[0]*0.2)\n",
        "val_s = int(X.shape[0]*0.1)"
      ],
      "metadata": {
        "id": "0IIExpeSG_xU"
      },
      "execution_count": 148,
      "outputs": []
    },
    {
      "cell_type": "code",
      "source": [
        "X_train = X[0:train_s, :]\n",
        "X_test = X[train_s:train_s+test_s,:]\n",
        "X_val = X[train_s+test_s:train_s+test_s+val_s,:]"
      ],
      "metadata": {
        "id": "olLnVgNBHCDQ"
      },
      "execution_count": 149,
      "outputs": []
    },
    {
      "cell_type": "code",
      "source": [
        "y_train = y[ 0:train_s]\n",
        "y_test = y[train_s:train_s+test_s]\n",
        "y_val = y[train_s+test_s:train_s+test_s+val_s]"
      ],
      "metadata": {
        "id": "RYX2lRAZHDTq"
      },
      "execution_count": 150,
      "outputs": []
    },
    {
      "cell_type": "code",
      "source": [
        "model = GradientBoostingRegressor(max_depth=4, n_estimators=100, learning_rate=0.1, random_state=42)\n",
        "\n",
        "# Train the model on the training set\n",
        "model.fit(X_train, y_train)"
      ],
      "metadata": {
        "colab": {
          "base_uri": "https://localhost:8080/",
          "height": 74
        },
        "id": "3-It5Wm5HEkg",
        "outputId": "cc6f208c-ae27-4d22-be5d-5798d957edd8"
      },
      "execution_count": 151,
      "outputs": [
        {
          "output_type": "execute_result",
          "data": {
            "text/plain": [
              "GradientBoostingRegressor(max_depth=4, random_state=42)"
            ],
            "text/html": [
              "<style>#sk-container-id-27 {color: black;background-color: white;}#sk-container-id-27 pre{padding: 0;}#sk-container-id-27 div.sk-toggleable {background-color: white;}#sk-container-id-27 label.sk-toggleable__label {cursor: pointer;display: block;width: 100%;margin-bottom: 0;padding: 0.3em;box-sizing: border-box;text-align: center;}#sk-container-id-27 label.sk-toggleable__label-arrow:before {content: \"▸\";float: left;margin-right: 0.25em;color: #696969;}#sk-container-id-27 label.sk-toggleable__label-arrow:hover:before {color: black;}#sk-container-id-27 div.sk-estimator:hover label.sk-toggleable__label-arrow:before {color: black;}#sk-container-id-27 div.sk-toggleable__content {max-height: 0;max-width: 0;overflow: hidden;text-align: left;background-color: #f0f8ff;}#sk-container-id-27 div.sk-toggleable__content pre {margin: 0.2em;color: black;border-radius: 0.25em;background-color: #f0f8ff;}#sk-container-id-27 input.sk-toggleable__control:checked~div.sk-toggleable__content {max-height: 200px;max-width: 100%;overflow: auto;}#sk-container-id-27 input.sk-toggleable__control:checked~label.sk-toggleable__label-arrow:before {content: \"▾\";}#sk-container-id-27 div.sk-estimator input.sk-toggleable__control:checked~label.sk-toggleable__label {background-color: #d4ebff;}#sk-container-id-27 div.sk-label input.sk-toggleable__control:checked~label.sk-toggleable__label {background-color: #d4ebff;}#sk-container-id-27 input.sk-hidden--visually {border: 0;clip: rect(1px 1px 1px 1px);clip: rect(1px, 1px, 1px, 1px);height: 1px;margin: -1px;overflow: hidden;padding: 0;position: absolute;width: 1px;}#sk-container-id-27 div.sk-estimator {font-family: monospace;background-color: #f0f8ff;border: 1px dotted black;border-radius: 0.25em;box-sizing: border-box;margin-bottom: 0.5em;}#sk-container-id-27 div.sk-estimator:hover {background-color: #d4ebff;}#sk-container-id-27 div.sk-parallel-item::after {content: \"\";width: 100%;border-bottom: 1px solid gray;flex-grow: 1;}#sk-container-id-27 div.sk-label:hover label.sk-toggleable__label {background-color: #d4ebff;}#sk-container-id-27 div.sk-serial::before {content: \"\";position: absolute;border-left: 1px solid gray;box-sizing: border-box;top: 0;bottom: 0;left: 50%;z-index: 0;}#sk-container-id-27 div.sk-serial {display: flex;flex-direction: column;align-items: center;background-color: white;padding-right: 0.2em;padding-left: 0.2em;position: relative;}#sk-container-id-27 div.sk-item {position: relative;z-index: 1;}#sk-container-id-27 div.sk-parallel {display: flex;align-items: stretch;justify-content: center;background-color: white;position: relative;}#sk-container-id-27 div.sk-item::before, #sk-container-id-27 div.sk-parallel-item::before {content: \"\";position: absolute;border-left: 1px solid gray;box-sizing: border-box;top: 0;bottom: 0;left: 50%;z-index: -1;}#sk-container-id-27 div.sk-parallel-item {display: flex;flex-direction: column;z-index: 1;position: relative;background-color: white;}#sk-container-id-27 div.sk-parallel-item:first-child::after {align-self: flex-end;width: 50%;}#sk-container-id-27 div.sk-parallel-item:last-child::after {align-self: flex-start;width: 50%;}#sk-container-id-27 div.sk-parallel-item:only-child::after {width: 0;}#sk-container-id-27 div.sk-dashed-wrapped {border: 1px dashed gray;margin: 0 0.4em 0.5em 0.4em;box-sizing: border-box;padding-bottom: 0.4em;background-color: white;}#sk-container-id-27 div.sk-label label {font-family: monospace;font-weight: bold;display: inline-block;line-height: 1.2em;}#sk-container-id-27 div.sk-label-container {text-align: center;}#sk-container-id-27 div.sk-container {/* jupyter's `normalize.less` sets `[hidden] { display: none; }` but bootstrap.min.css set `[hidden] { display: none !important; }` so we also need the `!important` here to be able to override the default hidden behavior on the sphinx rendered scikit-learn.org. See: https://github.com/scikit-learn/scikit-learn/issues/21755 */display: inline-block !important;position: relative;}#sk-container-id-27 div.sk-text-repr-fallback {display: none;}</style><div id=\"sk-container-id-27\" class=\"sk-top-container\"><div class=\"sk-text-repr-fallback\"><pre>GradientBoostingRegressor(max_depth=4, random_state=42)</pre><b>In a Jupyter environment, please rerun this cell to show the HTML representation or trust the notebook. <br />On GitHub, the HTML representation is unable to render, please try loading this page with nbviewer.org.</b></div><div class=\"sk-container\" hidden><div class=\"sk-item\"><div class=\"sk-estimator sk-toggleable\"><input class=\"sk-toggleable__control sk-hidden--visually\" id=\"sk-estimator-id-27\" type=\"checkbox\" checked><label for=\"sk-estimator-id-27\" class=\"sk-toggleable__label sk-toggleable__label-arrow\">GradientBoostingRegressor</label><div class=\"sk-toggleable__content\"><pre>GradientBoostingRegressor(max_depth=4, random_state=42)</pre></div></div></div></div></div>"
            ]
          },
          "metadata": {},
          "execution_count": 151
        }
      ]
    },
    {
      "cell_type": "code",
      "source": [
        "error = [mean_squared_error(y_test,y_pred) for y_pred in model.staged_predict(X_test)]\n",
        "best_samples_estimators = np.argmin(error)"
      ],
      "metadata": {
        "id": "TZI8ELYZHFvf"
      },
      "execution_count": 152,
      "outputs": []
    },
    {
      "cell_type": "code",
      "source": [
        "model = GradientBoostingRegressor(max_depth=4, n_estimators=best_samples_estimators, learning_rate=0.1, random_state=42)\n",
        "\n",
        "# preTrain the model on the training set\n",
        "model.fit(X_train, y_train)"
      ],
      "metadata": {
        "colab": {
          "base_uri": "https://localhost:8080/",
          "height": 74
        },
        "id": "q7Hd7HdgHHQ_",
        "outputId": "267150ba-e367-4e64-b1fc-3e4bf0cfcfaa"
      },
      "execution_count": 153,
      "outputs": [
        {
          "output_type": "execute_result",
          "data": {
            "text/plain": [
              "GradientBoostingRegressor(max_depth=4, n_estimators=99, random_state=42)"
            ],
            "text/html": [
              "<style>#sk-container-id-28 {color: black;background-color: white;}#sk-container-id-28 pre{padding: 0;}#sk-container-id-28 div.sk-toggleable {background-color: white;}#sk-container-id-28 label.sk-toggleable__label {cursor: pointer;display: block;width: 100%;margin-bottom: 0;padding: 0.3em;box-sizing: border-box;text-align: center;}#sk-container-id-28 label.sk-toggleable__label-arrow:before {content: \"▸\";float: left;margin-right: 0.25em;color: #696969;}#sk-container-id-28 label.sk-toggleable__label-arrow:hover:before {color: black;}#sk-container-id-28 div.sk-estimator:hover label.sk-toggleable__label-arrow:before {color: black;}#sk-container-id-28 div.sk-toggleable__content {max-height: 0;max-width: 0;overflow: hidden;text-align: left;background-color: #f0f8ff;}#sk-container-id-28 div.sk-toggleable__content pre {margin: 0.2em;color: black;border-radius: 0.25em;background-color: #f0f8ff;}#sk-container-id-28 input.sk-toggleable__control:checked~div.sk-toggleable__content {max-height: 200px;max-width: 100%;overflow: auto;}#sk-container-id-28 input.sk-toggleable__control:checked~label.sk-toggleable__label-arrow:before {content: \"▾\";}#sk-container-id-28 div.sk-estimator input.sk-toggleable__control:checked~label.sk-toggleable__label {background-color: #d4ebff;}#sk-container-id-28 div.sk-label input.sk-toggleable__control:checked~label.sk-toggleable__label {background-color: #d4ebff;}#sk-container-id-28 input.sk-hidden--visually {border: 0;clip: rect(1px 1px 1px 1px);clip: rect(1px, 1px, 1px, 1px);height: 1px;margin: -1px;overflow: hidden;padding: 0;position: absolute;width: 1px;}#sk-container-id-28 div.sk-estimator {font-family: monospace;background-color: #f0f8ff;border: 1px dotted black;border-radius: 0.25em;box-sizing: border-box;margin-bottom: 0.5em;}#sk-container-id-28 div.sk-estimator:hover {background-color: #d4ebff;}#sk-container-id-28 div.sk-parallel-item::after {content: \"\";width: 100%;border-bottom: 1px solid gray;flex-grow: 1;}#sk-container-id-28 div.sk-label:hover label.sk-toggleable__label {background-color: #d4ebff;}#sk-container-id-28 div.sk-serial::before {content: \"\";position: absolute;border-left: 1px solid gray;box-sizing: border-box;top: 0;bottom: 0;left: 50%;z-index: 0;}#sk-container-id-28 div.sk-serial {display: flex;flex-direction: column;align-items: center;background-color: white;padding-right: 0.2em;padding-left: 0.2em;position: relative;}#sk-container-id-28 div.sk-item {position: relative;z-index: 1;}#sk-container-id-28 div.sk-parallel {display: flex;align-items: stretch;justify-content: center;background-color: white;position: relative;}#sk-container-id-28 div.sk-item::before, #sk-container-id-28 div.sk-parallel-item::before {content: \"\";position: absolute;border-left: 1px solid gray;box-sizing: border-box;top: 0;bottom: 0;left: 50%;z-index: -1;}#sk-container-id-28 div.sk-parallel-item {display: flex;flex-direction: column;z-index: 1;position: relative;background-color: white;}#sk-container-id-28 div.sk-parallel-item:first-child::after {align-self: flex-end;width: 50%;}#sk-container-id-28 div.sk-parallel-item:last-child::after {align-self: flex-start;width: 50%;}#sk-container-id-28 div.sk-parallel-item:only-child::after {width: 0;}#sk-container-id-28 div.sk-dashed-wrapped {border: 1px dashed gray;margin: 0 0.4em 0.5em 0.4em;box-sizing: border-box;padding-bottom: 0.4em;background-color: white;}#sk-container-id-28 div.sk-label label {font-family: monospace;font-weight: bold;display: inline-block;line-height: 1.2em;}#sk-container-id-28 div.sk-label-container {text-align: center;}#sk-container-id-28 div.sk-container {/* jupyter's `normalize.less` sets `[hidden] { display: none; }` but bootstrap.min.css set `[hidden] { display: none !important; }` so we also need the `!important` here to be able to override the default hidden behavior on the sphinx rendered scikit-learn.org. See: https://github.com/scikit-learn/scikit-learn/issues/21755 */display: inline-block !important;position: relative;}#sk-container-id-28 div.sk-text-repr-fallback {display: none;}</style><div id=\"sk-container-id-28\" class=\"sk-top-container\"><div class=\"sk-text-repr-fallback\"><pre>GradientBoostingRegressor(max_depth=4, n_estimators=99, random_state=42)</pre><b>In a Jupyter environment, please rerun this cell to show the HTML representation or trust the notebook. <br />On GitHub, the HTML representation is unable to render, please try loading this page with nbviewer.org.</b></div><div class=\"sk-container\" hidden><div class=\"sk-item\"><div class=\"sk-estimator sk-toggleable\"><input class=\"sk-toggleable__control sk-hidden--visually\" id=\"sk-estimator-id-28\" type=\"checkbox\" checked><label for=\"sk-estimator-id-28\" class=\"sk-toggleable__label sk-toggleable__label-arrow\">GradientBoostingRegressor</label><div class=\"sk-toggleable__content\"><pre>GradientBoostingRegressor(max_depth=4, n_estimators=99, random_state=42)</pre></div></div></div></div></div>"
            ]
          },
          "metadata": {},
          "execution_count": 153
        }
      ]
    },
    {
      "cell_type": "code",
      "source": [
        "y_val_pred = model.predict(X_val)\n",
        "y_test_pred = model.predict(X_test)"
      ],
      "metadata": {
        "id": "04RQJFU6PJ25"
      },
      "execution_count": 154,
      "outputs": []
    },
    {
      "cell_type": "code",
      "source": [
        "# Tính RMSE, MAE, MAPE\n",
        "valid_rmse = np.sqrt(np.mean((y_val_pred - y_val)**2))\n",
        "test_rmse = np.sqrt(np.mean((y_test_pred - y_test)**2))\n",
        "valid_mae = np.mean(np.abs(y_val_pred - y_val))\n",
        "test_mae = np.mean(np.abs(y_test_pred - y_test))\n",
        "valid_mape = np.mean(np.abs((y_val_pred - y_val) / y_val))\n",
        "test_mape = np.mean(np.abs((y_test_pred - y_test) / y_test))\n",
        "\n",
        "print('Validation RMSE:', valid_rmse)\n",
        "print('Testing RMSE:', test_rmse)\n",
        "print('Validation MAE:', valid_mae)\n",
        "print('Testing MAE:', test_mae)\n",
        "print('Validation MAPE:', valid_mape)\n",
        "print('Testing MAPE:', test_mape)"
      ],
      "metadata": {
        "colab": {
          "base_uri": "https://localhost:8080/"
        },
        "id": "-qjp5Ao4y_q8",
        "outputId": "f0c4b5e3-b358-4e70-d0b8-83dc9fcee22b"
      },
      "execution_count": 155,
      "outputs": [
        {
          "output_type": "stream",
          "name": "stdout",
          "text": [
            "Validation RMSE: 8.639394739407958\n",
            "Testing RMSE: 12.505407481820459\n",
            "Validation MAE: 5.716381020199421\n",
            "Testing MAE: 7.066117182300203\n",
            "Validation MAPE: 0.019782481111784555\n",
            "Testing MAPE: 0.022595411161917392\n"
          ]
        }
      ]
    },
    {
      "cell_type": "code",
      "source": [
        "print(\"R2 score\",model.score(X_train, y_train))"
      ],
      "metadata": {
        "colab": {
          "base_uri": "https://localhost:8080/"
        },
        "id": "be4jPZrPHKRm",
        "outputId": "b79b5ba9-c14c-45a2-865a-39f4f4385e71"
      },
      "execution_count": 156,
      "outputs": [
        {
          "output_type": "stream",
          "name": "stdout",
          "text": [
            "R2 score 0.9999925909964362\n"
          ]
        }
      ]
    },
    {
      "cell_type": "code",
      "source": [
        "next_day_features = (df[['Open', 'High', 'Low', 'Adj Close', 'Volume']].iloc[-1]).values.reshape(1, -1)"
      ],
      "metadata": {
        "id": "0STpwG4THMWr"
      },
      "execution_count": 157,
      "outputs": []
    },
    {
      "cell_type": "code",
      "source": [
        "predictions = []\n",
        "for _ in range(30):\n",
        "    next_day_prediction = model.predict(next_day_features)\n",
        "    predictions.append(next_day_prediction)\n",
        "    next_day_features[0, :-1] = next_day_features[0, 1:]\n",
        "    next_day_features[0, -1] = next_day_prediction\n",
        "\n",
        "print(\"The next 30 days:\\n\", predictions)"
      ],
      "metadata": {
        "colab": {
          "base_uri": "https://localhost:8080/"
        },
        "id": "VB5S7iMoHN06",
        "outputId": "e7bcb123-4a17-4b07-a946-df1224ad6440"
      },
      "execution_count": 158,
      "outputs": [
        {
          "output_type": "stream",
          "name": "stdout",
          "text": [
            "The next 30 days:\n",
            " [array([305.08330119]), array([305.09196437]), array([305.09196437]), array([305.09196437]), array([305.10151164]), array([305.10151164]), array([305.10151164]), array([305.10151164]), array([305.10151164]), array([305.10151164]), array([305.10151164]), array([305.10151164]), array([305.10151164]), array([305.10151164]), array([305.10151164]), array([305.10151164]), array([305.10151164]), array([305.10151164]), array([305.10151164]), array([305.10151164]), array([305.10151164]), array([305.10151164]), array([305.10151164]), array([305.10151164]), array([305.10151164]), array([305.10151164]), array([305.10151164]), array([305.10151164]), array([305.10151164]), array([305.10151164])]\n"
          ]
        }
      ]
    },
    {
      "cell_type": "code",
      "source": [
        "# Plot the price chart\n",
        "plt.figure(figsize=(13, 6))\n",
        "train = pd.RangeIndex(start=0, stop=train_s, step=1)\n",
        "plt.plot(train,y_train)\n",
        "test = pd.RangeIndex(start=train_s, stop=train_s+test_s, step=1)\n",
        "plt.plot(test,y_test)\n",
        "val = pd.RangeIndex(start=train_s+test_s, stop=train_s+test_s+val_s, step=1)\n",
        "plt.plot(val,y_val)\n",
        "test_data_index = pd.RangeIndex(start=train_s+test_s+val_s, stop=train_s+test_s+val_s+30, step=1)\n",
        "plt.plot(test_data_index,predictions)\n",
        "plt.xlabel('Date (fisrt date is {0} and end date for train is {1})'.format(df['Date'][0],df['Date'][-1:,].values))\n",
        "plt.ylabel('Closing Price')\n",
        "plt.title('Price Chart')\n",
        "plt.grid(True)\n",
        "plt.legend(['Train','test','val','Predict30days'])\n",
        "plt.show()"
      ],
      "metadata": {
        "colab": {
          "base_uri": "https://localhost:8080/",
          "height": 430
        },
        "id": "j0Is9AtfHPar",
        "outputId": "1f8b2956-ca26-4b15-fd0c-0d8b10017465"
      },
      "execution_count": 159,
      "outputs": [
        {
          "output_type": "display_data",
          "data": {
            "text/plain": [
              "<Figure size 1300x600 with 1 Axes>"
            ],
            "image/png": "[encoded data removed]"
          },
          "metadata": {}
        }
      ]
    }
  ]
}